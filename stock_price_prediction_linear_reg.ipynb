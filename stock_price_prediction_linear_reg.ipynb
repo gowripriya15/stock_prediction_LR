{
  "nbformat": 4,
  "nbformat_minor": 0,
  "metadata": {
    "colab": {
      "name": "stock_price_prediction_linear_reg.ipynb",
      "provenance": [],
      "authorship_tag": "ABX9TyNXzUEsray5nYPkKkQuCOmW",
      "include_colab_link": true
    },
    "kernelspec": {
      "name": "python3",
      "display_name": "Python 3"
    },
    "language_info": {
      "name": "python"
    }
  },
  "cells": [
    {
      "cell_type": "markdown",
      "metadata": {
        "id": "view-in-github",
        "colab_type": "text"
      },
      "source": [
        "<a href=\"https://colab.research.google.com/github/gowripriya15/stock_prediction_LR/blob/main/stock_price_prediction_linear_reg.ipynb\" target=\"_parent\"><img src=\"https://colab.research.google.com/assets/colab-badge.svg\" alt=\"Open In Colab\"/></a>"
      ]
    },
    {
      "cell_type": "code",
      "metadata": {
        "id": "A12hrMSntDAO"
      },
      "source": [
        "import math\n",
        "import numpy as np\n",
        "import pandas as pd\n",
        "from sklearn.preprocessing import MinMaxScaler\n",
        "import matplotlib.pyplot as plt\n",
        "import pickle\n",
        "import warnings\n",
        "plt.style.use('seaborn')\n",
        "warnings.filterwarnings('ignore')"
      ],
      "execution_count": 1,
      "outputs": []
    },
    {
      "cell_type": "code",
      "metadata": {
        "colab": {
          "resources": {
            "http://localhost:8080/nbextensions/google.colab/files.js": {
              "data": "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",
              "ok": true,
              "headers": [
                [
                  "content-type",
                  "application/javascript"
                ]
              ],
              "status": 200,
              "status_text": ""
            }
          },
          "base_uri": "https://localhost:8080/",
          "height": 73
        },
        "id": "7yNKk2aet3nG",
        "outputId": "f76285ec-9491-467f-afcb-ca7c18c271bf"
      },
      "source": [
        "from google.colab import files\n",
        "uploaded = files.upload()"
      ],
      "execution_count": 2,
      "outputs": [
        {
          "output_type": "display_data",
          "data": {
            "text/html": [
              "\n",
              "     <input type=\"file\" id=\"files-cd11155e-7e00-486e-b5f5-b7506f2322aa\" name=\"files[]\" multiple disabled\n",
              "        style=\"border:none\" />\n",
              "     <output id=\"result-cd11155e-7e00-486e-b5f5-b7506f2322aa\">\n",
              "      Upload widget is only available when the cell has been executed in the\n",
              "      current browser session. Please rerun this cell to enable.\n",
              "      </output>\n",
              "      <script src=\"/nbextensions/google.colab/files.js\"></script> "
            ],
            "text/plain": [
              "<IPython.core.display.HTML object>"
            ]
          },
          "metadata": {}
        },
        {
          "output_type": "stream",
          "name": "stdout",
          "text": [
            "Saving facebook_merge_news_headlines.csv to facebook_merge_news_headlines.csv\n"
          ]
        }
      ]
    },
    {
      "cell_type": "code",
      "metadata": {
        "colab": {
          "base_uri": "https://localhost:8080/",
          "height": 417
        },
        "id": "XlTyy7eguPs7",
        "outputId": "235efef3-8da6-4102-e116-4b227251260e"
      },
      "source": [
        "import io\n",
        "fb_data=pd.read_csv(io.BytesIO(uploaded['facebook_merge_news_headlines.csv']))\n",
        "fb_data = pd.read_csv(\"facebook_merge_news_headlines.csv\", parse_dates=['Date'])\n",
        "fb_data"
      ],
      "execution_count": 3,
      "outputs": [
        {
          "output_type": "execute_result",
          "data": {
            "text/html": [
              "<div>\n",
              "<style scoped>\n",
              "    .dataframe tbody tr th:only-of-type {\n",
              "        vertical-align: middle;\n",
              "    }\n",
              "\n",
              "    .dataframe tbody tr th {\n",
              "        vertical-align: top;\n",
              "    }\n",
              "\n",
              "    .dataframe thead th {\n",
              "        text-align: right;\n",
              "    }\n",
              "</style>\n",
              "<table border=\"1\" class=\"dataframe\">\n",
              "  <thead>\n",
              "    <tr style=\"text-align: right;\">\n",
              "      <th></th>\n",
              "      <th>Date</th>\n",
              "      <th>Headlines</th>\n",
              "    </tr>\n",
              "  </thead>\n",
              "  <tbody>\n",
              "    <tr>\n",
              "      <th>0</th>\n",
              "      <td>2015-01-01</td>\n",
              "      <td>What Can We Expect From Apple Inc. In 2015? 1 ...</td>\n",
              "    </tr>\n",
              "    <tr>\n",
              "      <th>1</th>\n",
              "      <td>2015-02-01</td>\n",
              "      <td>What to expect from Apple in 2015 beyond its s...</td>\n",
              "    </tr>\n",
              "    <tr>\n",
              "      <th>2</th>\n",
              "      <td>2015-03-01</td>\n",
              "      <td>Mountie: An inexpensive and innovative way to ...</td>\n",
              "    </tr>\n",
              "    <tr>\n",
              "      <th>3</th>\n",
              "      <td>2015-04-01</td>\n",
              "      <td>Donald Yacktman on the Sources of Moats, His C...</td>\n",
              "    </tr>\n",
              "    <tr>\n",
              "      <th>4</th>\n",
              "      <td>2015-05-01</td>\n",
              "      <td>SIM-free iPhone 6, 6 Plus reportedly debuting ...</td>\n",
              "    </tr>\n",
              "    <tr>\n",
              "      <th>...</th>\n",
              "      <td>...</td>\n",
              "      <td>...</td>\n",
              "    </tr>\n",
              "    <tr>\n",
              "      <th>2360</th>\n",
              "      <td>2021-06-19</td>\n",
              "      <td>Best pre-Prime Day smartwatch deals on Apple W...</td>\n",
              "    </tr>\n",
              "    <tr>\n",
              "      <th>2361</th>\n",
              "      <td>2021-06-20</td>\n",
              "      <td>iPhone 13 rumors: As Apple's fall event gets c...</td>\n",
              "    </tr>\n",
              "    <tr>\n",
              "      <th>2362</th>\n",
              "      <td>2021-06-21</td>\n",
              "      <td>Apple is shortening new free TV Plus trials fr...</td>\n",
              "    </tr>\n",
              "    <tr>\n",
              "      <th>2363</th>\n",
              "      <td>2021-06-22</td>\n",
              "      <td>Google likely to soon face antitrust claims ov...</td>\n",
              "    </tr>\n",
              "    <tr>\n",
              "      <th>2364</th>\n",
              "      <td>2021-06-23</td>\n",
              "      <td>French court sets date in Apple case over App ...</td>\n",
              "    </tr>\n",
              "  </tbody>\n",
              "</table>\n",
              "<p>2365 rows × 2 columns</p>\n",
              "</div>"
            ],
            "text/plain": [
              "           Date                                          Headlines\n",
              "0    2015-01-01  What Can We Expect From Apple Inc. In 2015? 1 ...\n",
              "1    2015-02-01  What to expect from Apple in 2015 beyond its s...\n",
              "2    2015-03-01  Mountie: An inexpensive and innovative way to ...\n",
              "3    2015-04-01  Donald Yacktman on the Sources of Moats, His C...\n",
              "4    2015-05-01  SIM-free iPhone 6, 6 Plus reportedly debuting ...\n",
              "...         ...                                                ...\n",
              "2360 2021-06-19  Best pre-Prime Day smartwatch deals on Apple W...\n",
              "2361 2021-06-20  iPhone 13 rumors: As Apple's fall event gets c...\n",
              "2362 2021-06-21  Apple is shortening new free TV Plus trials fr...\n",
              "2363 2021-06-22  Google likely to soon face antitrust claims ov...\n",
              "2364 2021-06-23  French court sets date in Apple case over App ...\n",
              "\n",
              "[2365 rows x 2 columns]"
            ]
          },
          "metadata": {},
          "execution_count": 3
        }
      ]
    },
    {
      "cell_type": "code",
      "metadata": {
        "colab": {
          "resources": {
            "http://localhost:8080/nbextensions/google.colab/files.js": {
              "data": "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",
              "ok": true,
              "headers": [
                [
                  "content-type",
                  "application/javascript"
                ]
              ],
              "status": 200,
              "status_text": ""
            }
          },
          "base_uri": "https://localhost:8080/",
          "height": 73
        },
        "id": "h96I9WM5u2Ux",
        "outputId": "a8f53fe1-68b0-44f1-b39f-b65915cf06e8"
      },
      "source": [
        "from google.colab import files\n",
        "uploaded = files.upload()"
      ],
      "execution_count": 4,
      "outputs": [
        {
          "output_type": "display_data",
          "data": {
            "text/html": [
              "\n",
              "     <input type=\"file\" id=\"files-f864bae2-16bb-4f0b-a169-bfb0cfb84eb1\" name=\"files[]\" multiple disabled\n",
              "        style=\"border:none\" />\n",
              "     <output id=\"result-f864bae2-16bb-4f0b-a169-bfb0cfb84eb1\">\n",
              "      Upload widget is only available when the cell has been executed in the\n",
              "      current browser session. Please rerun this cell to enable.\n",
              "      </output>\n",
              "      <script src=\"/nbextensions/google.colab/files.js\"></script> "
            ],
            "text/plain": [
              "<IPython.core.display.HTML object>"
            ]
          },
          "metadata": {}
        },
        {
          "output_type": "stream",
          "name": "stdout",
          "text": [
            "Saving HistoricalData_FB.csv to HistoricalData_FB.csv\n"
          ]
        }
      ]
    },
    {
      "cell_type": "code",
      "metadata": {
        "id": "I8sRxeskvG_Z"
      },
      "source": [
        "\n",
        "df=pd.read_csv(io.BytesIO(uploaded['HistoricalData_FB.csv']))"
      ],
      "execution_count": 5,
      "outputs": []
    },
    {
      "cell_type": "code",
      "metadata": {
        "colab": {
          "base_uri": "https://localhost:8080/",
          "height": 286
        },
        "id": "k8rxZeiOvJxm",
        "outputId": "ab63aaeb-856c-45c0-8fd7-f7acff4b40a4"
      },
      "source": [
        "import seaborn as sns\n",
        "sns.heatmap(fb_data.isnull(),cmap='plasma')"
      ],
      "execution_count": 6,
      "outputs": [
        {
          "output_type": "execute_result",
          "data": {
            "text/plain": [
              "<matplotlib.axes._subplots.AxesSubplot at 0x7f7b9603acd0>"
            ]
          },
          "metadata": {},
          "execution_count": 6
        },
        {
          "output_type": "display_data",
          "data": {
            "image/png": "[encoded data removed]",
            "text/plain": [
              "<Figure size 432x288 with 2 Axes>"
            ]
          },
          "metadata": {
            "needs_background": "light"
          }
        }
      ]
    },
    {
      "cell_type": "code",
      "metadata": {
        "id": "9yra5VAzvNWT"
      },
      "source": [
        "fb_data.sort_index(inplace=True)"
      ],
      "execution_count": 7,
      "outputs": []
    },
    {
      "cell_type": "code",
      "metadata": {
        "colab": {
          "base_uri": "https://localhost:8080/",
          "height": 203
        },
        "id": "Z3ll-m1wvRav",
        "outputId": "66a3f744-c9c0-4f77-ec07-976da75c97dd"
      },
      "source": [
        "df = pd.read_csv(\"HistoricalData_FB.csv\", parse_dates=['Date'])\n",
        "df.head()"
      ],
      "execution_count": 8,
      "outputs": [
        {
          "output_type": "execute_result",
          "data": {
            "text/html": [
              "<div>\n",
              "<style scoped>\n",
              "    .dataframe tbody tr th:only-of-type {\n",
              "        vertical-align: middle;\n",
              "    }\n",
              "\n",
              "    .dataframe tbody tr th {\n",
              "        vertical-align: top;\n",
              "    }\n",
              "\n",
              "    .dataframe thead th {\n",
              "        text-align: right;\n",
              "    }\n",
              "</style>\n",
              "<table border=\"1\" class=\"dataframe\">\n",
              "  <thead>\n",
              "    <tr style=\"text-align: right;\">\n",
              "      <th></th>\n",
              "      <th>Date</th>\n",
              "      <th>Close/Last</th>\n",
              "      <th>Volume</th>\n",
              "      <th>Open</th>\n",
              "      <th>High</th>\n",
              "      <th>Low</th>\n",
              "    </tr>\n",
              "  </thead>\n",
              "  <tbody>\n",
              "    <tr>\n",
              "      <th>0</th>\n",
              "      <td>2021-06-09</td>\n",
              "      <td>$330.25</td>\n",
              "      <td>13727950</td>\n",
              "      <td>$335.74</td>\n",
              "      <td>$336.8</td>\n",
              "      <td>$330</td>\n",
              "    </tr>\n",
              "    <tr>\n",
              "      <th>1</th>\n",
              "      <td>2021-06-08</td>\n",
              "      <td>$333.68</td>\n",
              "      <td>14580460</td>\n",
              "      <td>$336.7</td>\n",
              "      <td>$338.2999</td>\n",
              "      <td>$332.24</td>\n",
              "    </tr>\n",
              "    <tr>\n",
              "      <th>2</th>\n",
              "      <td>2021-06-07</td>\n",
              "      <td>$336.58</td>\n",
              "      <td>20136710</td>\n",
              "      <td>$329.48</td>\n",
              "      <td>$337.69</td>\n",
              "      <td>$328.93</td>\n",
              "    </tr>\n",
              "    <tr>\n",
              "      <th>3</th>\n",
              "      <td>2021-06-04</td>\n",
              "      <td>$330.35</td>\n",
              "      <td>13289380</td>\n",
              "      <td>$325.9</td>\n",
              "      <td>$332.455</td>\n",
              "      <td>$325.18</td>\n",
              "    </tr>\n",
              "    <tr>\n",
              "      <th>4</th>\n",
              "      <td>2021-06-03</td>\n",
              "      <td>$326.04</td>\n",
              "      <td>12610790</td>\n",
              "      <td>$325.78</td>\n",
              "      <td>$327.375</td>\n",
              "      <td>$323.48</td>\n",
              "    </tr>\n",
              "  </tbody>\n",
              "</table>\n",
              "</div>"
            ],
            "text/plain": [
              "        Date Close/Last    Volume     Open       High      Low\n",
              "0 2021-06-09    $330.25  13727950  $335.74     $336.8     $330\n",
              "1 2021-06-08    $333.68  14580460   $336.7  $338.2999  $332.24\n",
              "2 2021-06-07    $336.58  20136710  $329.48    $337.69  $328.93\n",
              "3 2021-06-04    $330.35  13289380   $325.9   $332.455  $325.18\n",
              "4 2021-06-03    $326.04  12610790  $325.78   $327.375  $323.48"
            ]
          },
          "metadata": {},
          "execution_count": 8
        }
      ]
    },
    {
      "cell_type": "code",
      "metadata": {
        "id": "4OccBwCJvTx8"
      },
      "source": [
        "df.rename(columns={\"Close/Last\":\"Close\"},inplace = True)\n",
        "\n"
      ],
      "execution_count": 9,
      "outputs": []
    },
    {
      "cell_type": "code",
      "metadata": {
        "id": "hWHV3XeJvYLH"
      },
      "source": [
        "df.sort_values('Date', inplace=True)"
      ],
      "execution_count": 10,
      "outputs": []
    },
    {
      "cell_type": "code",
      "metadata": {
        "colab": {
          "base_uri": "https://localhost:8080/",
          "height": 417
        },
        "id": "sxJSg-A_vb5T",
        "outputId": "b25b3ca9-856a-4114-a891-52a13c585e7c"
      },
      "source": [
        "df.reset_index()"
      ],
      "execution_count": 11,
      "outputs": [
        {
          "output_type": "execute_result",
          "data": {
            "text/html": [
              "<div>\n",
              "<style scoped>\n",
              "    .dataframe tbody tr th:only-of-type {\n",
              "        vertical-align: middle;\n",
              "    }\n",
              "\n",
              "    .dataframe tbody tr th {\n",
              "        vertical-align: top;\n",
              "    }\n",
              "\n",
              "    .dataframe thead th {\n",
              "        text-align: right;\n",
              "    }\n",
              "</style>\n",
              "<table border=\"1\" class=\"dataframe\">\n",
              "  <thead>\n",
              "    <tr style=\"text-align: right;\">\n",
              "      <th></th>\n",
              "      <th>index</th>\n",
              "      <th>Date</th>\n",
              "      <th>Close</th>\n",
              "      <th>Volume</th>\n",
              "      <th>Open</th>\n",
              "      <th>High</th>\n",
              "      <th>Low</th>\n",
              "    </tr>\n",
              "  </thead>\n",
              "  <tbody>\n",
              "    <tr>\n",
              "      <th>0</th>\n",
              "      <td>2278</td>\n",
              "      <td>2012-05-18</td>\n",
              "      <td>$38.2318</td>\n",
              "      <td>579377500</td>\n",
              "      <td>$42</td>\n",
              "      <td>$45</td>\n",
              "      <td>$38</td>\n",
              "    </tr>\n",
              "    <tr>\n",
              "      <th>1</th>\n",
              "      <td>2277</td>\n",
              "      <td>2012-05-21</td>\n",
              "      <td>$34.03</td>\n",
              "      <td>167943600</td>\n",
              "      <td>$36.53</td>\n",
              "      <td>$36.66</td>\n",
              "      <td>$33</td>\n",
              "    </tr>\n",
              "    <tr>\n",
              "      <th>2</th>\n",
              "      <td>2276</td>\n",
              "      <td>2012-05-22</td>\n",
              "      <td>$31</td>\n",
              "      <td>101667700</td>\n",
              "      <td>$32.61</td>\n",
              "      <td>$33.59</td>\n",
              "      <td>$30.94</td>\n",
              "    </tr>\n",
              "    <tr>\n",
              "      <th>3</th>\n",
              "      <td>2275</td>\n",
              "      <td>2012-05-23</td>\n",
              "      <td>$32</td>\n",
              "      <td>73541150</td>\n",
              "      <td>$31.37</td>\n",
              "      <td>$32.5</td>\n",
              "      <td>$31.36</td>\n",
              "    </tr>\n",
              "    <tr>\n",
              "      <th>4</th>\n",
              "      <td>2274</td>\n",
              "      <td>2012-05-24</td>\n",
              "      <td>$33.03</td>\n",
              "      <td>50208760</td>\n",
              "      <td>$32.95</td>\n",
              "      <td>$33.21</td>\n",
              "      <td>$31.77</td>\n",
              "    </tr>\n",
              "    <tr>\n",
              "      <th>...</th>\n",
              "      <td>...</td>\n",
              "      <td>...</td>\n",
              "      <td>...</td>\n",
              "      <td>...</td>\n",
              "      <td>...</td>\n",
              "      <td>...</td>\n",
              "      <td>...</td>\n",
              "    </tr>\n",
              "    <tr>\n",
              "      <th>2274</th>\n",
              "      <td>4</td>\n",
              "      <td>2021-06-03</td>\n",
              "      <td>$326.04</td>\n",
              "      <td>12610790</td>\n",
              "      <td>$325.78</td>\n",
              "      <td>$327.375</td>\n",
              "      <td>$323.48</td>\n",
              "    </tr>\n",
              "    <tr>\n",
              "      <th>2275</th>\n",
              "      <td>3</td>\n",
              "      <td>2021-06-04</td>\n",
              "      <td>$330.35</td>\n",
              "      <td>13289380</td>\n",
              "      <td>$325.9</td>\n",
              "      <td>$332.455</td>\n",
              "      <td>$325.18</td>\n",
              "    </tr>\n",
              "    <tr>\n",
              "      <th>2276</th>\n",
              "      <td>2</td>\n",
              "      <td>2021-06-07</td>\n",
              "      <td>$336.58</td>\n",
              "      <td>20136710</td>\n",
              "      <td>$329.48</td>\n",
              "      <td>$337.69</td>\n",
              "      <td>$328.93</td>\n",
              "    </tr>\n",
              "    <tr>\n",
              "      <th>2277</th>\n",
              "      <td>1</td>\n",
              "      <td>2021-06-08</td>\n",
              "      <td>$333.68</td>\n",
              "      <td>14580460</td>\n",
              "      <td>$336.7</td>\n",
              "      <td>$338.2999</td>\n",
              "      <td>$332.24</td>\n",
              "    </tr>\n",
              "    <tr>\n",
              "      <th>2278</th>\n",
              "      <td>0</td>\n",
              "      <td>2021-06-09</td>\n",
              "      <td>$330.25</td>\n",
              "      <td>13727950</td>\n",
              "      <td>$335.74</td>\n",
              "      <td>$336.8</td>\n",
              "      <td>$330</td>\n",
              "    </tr>\n",
              "  </tbody>\n",
              "</table>\n",
              "<p>2279 rows × 7 columns</p>\n",
              "</div>"
            ],
            "text/plain": [
              "      index       Date     Close     Volume     Open       High      Low\n",
              "0      2278 2012-05-18  $38.2318  579377500      $42        $45      $38\n",
              "1      2277 2012-05-21    $34.03  167943600   $36.53     $36.66      $33\n",
              "2      2276 2012-05-22       $31  101667700   $32.61     $33.59   $30.94\n",
              "3      2275 2012-05-23       $32   73541150   $31.37      $32.5   $31.36\n",
              "4      2274 2012-05-24    $33.03   50208760   $32.95     $33.21   $31.77\n",
              "...     ...        ...       ...        ...      ...        ...      ...\n",
              "2274      4 2021-06-03   $326.04   12610790  $325.78   $327.375  $323.48\n",
              "2275      3 2021-06-04   $330.35   13289380   $325.9   $332.455  $325.18\n",
              "2276      2 2021-06-07   $336.58   20136710  $329.48    $337.69  $328.93\n",
              "2277      1 2021-06-08   $333.68   14580460   $336.7  $338.2999  $332.24\n",
              "2278      0 2021-06-09   $330.25   13727950  $335.74     $336.8     $330\n",
              "\n",
              "[2279 rows x 7 columns]"
            ]
          },
          "metadata": {},
          "execution_count": 11
        }
      ]
    },
    {
      "cell_type": "code",
      "metadata": {
        "colab": {
          "base_uri": "https://localhost:8080/"
        },
        "id": "EDVPbKqJveCR",
        "outputId": "ddee8998-a580-4727-aec8-d46895c48bd3"
      },
      "source": [
        "df.columns"
      ],
      "execution_count": 12,
      "outputs": [
        {
          "output_type": "execute_result",
          "data": {
            "text/plain": [
              "Index(['Date', 'Close', 'Volume', 'Open', 'High', 'Low'], dtype='object')"
            ]
          },
          "metadata": {},
          "execution_count": 12
        }
      ]
    },
    {
      "cell_type": "code",
      "metadata": {
        "id": "q62WA097viXL"
      },
      "source": [
        "data = pd.merge(fb_data, df, how='inner', on=['Date'])"
      ],
      "execution_count": 13,
      "outputs": []
    },
    {
      "cell_type": "code",
      "metadata": {
        "colab": {
          "base_uri": "https://localhost:8080/",
          "height": 417
        },
        "id": "oocZ4PHWvlgl",
        "outputId": "7de4a204-4b0f-4212-c94c-66afd6c50a07"
      },
      "source": [
        "data"
      ],
      "execution_count": 14,
      "outputs": [
        {
          "output_type": "execute_result",
          "data": {
            "text/html": [
              "<div>\n",
              "<style scoped>\n",
              "    .dataframe tbody tr th:only-of-type {\n",
              "        vertical-align: middle;\n",
              "    }\n",
              "\n",
              "    .dataframe tbody tr th {\n",
              "        vertical-align: top;\n",
              "    }\n",
              "\n",
              "    .dataframe thead th {\n",
              "        text-align: right;\n",
              "    }\n",
              "</style>\n",
              "<table border=\"1\" class=\"dataframe\">\n",
              "  <thead>\n",
              "    <tr style=\"text-align: right;\">\n",
              "      <th></th>\n",
              "      <th>Date</th>\n",
              "      <th>Headlines</th>\n",
              "      <th>Close</th>\n",
              "      <th>Volume</th>\n",
              "      <th>Open</th>\n",
              "      <th>High</th>\n",
              "      <th>Low</th>\n",
              "    </tr>\n",
              "  </thead>\n",
              "  <tbody>\n",
              "    <tr>\n",
              "      <th>0</th>\n",
              "      <td>2015-04-01</td>\n",
              "      <td>Donald Yacktman on the Sources of Moats, His C...</td>\n",
              "      <td>$81.665</td>\n",
              "      <td>22028080</td>\n",
              "      <td>$82.5</td>\n",
              "      <td>$82.72</td>\n",
              "      <td>$80.87</td>\n",
              "    </tr>\n",
              "    <tr>\n",
              "      <th>1</th>\n",
              "      <td>2015-05-01</td>\n",
              "      <td>SIM-free iPhone 6, 6 Plus reportedly debuting ...</td>\n",
              "      <td>$78.99</td>\n",
              "      <td>22811310</td>\n",
              "      <td>$79.24</td>\n",
              "      <td>$79.76</td>\n",
              "      <td>$78.11</td>\n",
              "    </tr>\n",
              "    <tr>\n",
              "      <th>2</th>\n",
              "      <td>2015-06-01</td>\n",
              "      <td>Technology Transforming Cars Into \"Phones On W...</td>\n",
              "      <td>$80.29</td>\n",
              "      <td>18106110</td>\n",
              "      <td>$79.3</td>\n",
              "      <td>$80.38</td>\n",
              "      <td>$78.66</td>\n",
              "    </tr>\n",
              "    <tr>\n",
              "      <th>3</th>\n",
              "      <td>2015-07-01</td>\n",
              "      <td>Apple issues fourth developer beta of OS X 10....</td>\n",
              "      <td>$86.91</td>\n",
              "      <td>25198260</td>\n",
              "      <td>$86.77</td>\n",
              "      <td>$87.95</td>\n",
              "      <td>$86.49</td>\n",
              "    </tr>\n",
              "    <tr>\n",
              "      <th>4</th>\n",
              "      <td>2015-09-01</td>\n",
              "      <td>Samsung is reportedly making a secret new chip...</td>\n",
              "      <td>$87.23</td>\n",
              "      <td>35958020</td>\n",
              "      <td>$86.85</td>\n",
              "      <td>$89.39</td>\n",
              "      <td>$86.5</td>\n",
              "    </tr>\n",
              "    <tr>\n",
              "      <th>...</th>\n",
              "      <td>...</td>\n",
              "      <td>...</td>\n",
              "      <td>...</td>\n",
              "      <td>...</td>\n",
              "      <td>...</td>\n",
              "      <td>...</td>\n",
              "      <td>...</td>\n",
              "    </tr>\n",
              "    <tr>\n",
              "      <th>1590</th>\n",
              "      <td>2021-05-27</td>\n",
              "      <td>&amp;quot;Friends: The Reunion&amp;quot;: The Best Non...</td>\n",
              "      <td>$332.75</td>\n",
              "      <td>20477730</td>\n",
              "      <td>$328</td>\n",
              "      <td>$333.78</td>\n",
              "      <td>$326.76</td>\n",
              "    </tr>\n",
              "    <tr>\n",
              "      <th>1591</th>\n",
              "      <td>2021-05-28</td>\n",
              "      <td>Apple pushes back launch of podcast subscripti...</td>\n",
              "      <td>$328.73</td>\n",
              "      <td>12037430</td>\n",
              "      <td>$331</td>\n",
              "      <td>$332.8684</td>\n",
              "      <td>$328.33</td>\n",
              "    </tr>\n",
              "    <tr>\n",
              "      <th>1592</th>\n",
              "      <td>2021-01-06</td>\n",
              "      <td>Judge dismisses charges against Apple security...</td>\n",
              "      <td>$263.31</td>\n",
              "      <td>24354150</td>\n",
              "      <td>$262</td>\n",
              "      <td>$267.75</td>\n",
              "      <td>$260.01</td>\n",
              "    </tr>\n",
              "    <tr>\n",
              "      <th>1593</th>\n",
              "      <td>2021-04-06</td>\n",
              "      <td>Global equities nearly grasp all-time record, ...</td>\n",
              "      <td>$306.26</td>\n",
              "      <td>17335250</td>\n",
              "      <td>$308.837</td>\n",
              "      <td>$311.35</td>\n",
              "      <td>$305.25</td>\n",
              "    </tr>\n",
              "    <tr>\n",
              "      <th>1594</th>\n",
              "      <td>2021-05-06</td>\n",
              "      <td>Apple employees want more remote-work flexibil...</td>\n",
              "      <td>$320.02</td>\n",
              "      <td>19012240</td>\n",
              "      <td>$314.52</td>\n",
              "      <td>$320.24</td>\n",
              "      <td>$313.275</td>\n",
              "    </tr>\n",
              "  </tbody>\n",
              "</table>\n",
              "<p>1595 rows × 7 columns</p>\n",
              "</div>"
            ],
            "text/plain": [
              "           Date  ...       Low\n",
              "0    2015-04-01  ...    $80.87\n",
              "1    2015-05-01  ...    $78.11\n",
              "2    2015-06-01  ...    $78.66\n",
              "3    2015-07-01  ...    $86.49\n",
              "4    2015-09-01  ...     $86.5\n",
              "...         ...  ...       ...\n",
              "1590 2021-05-27  ...   $326.76\n",
              "1591 2021-05-28  ...   $328.33\n",
              "1592 2021-01-06  ...   $260.01\n",
              "1593 2021-04-06  ...   $305.25\n",
              "1594 2021-05-06  ...  $313.275\n",
              "\n",
              "[1595 rows x 7 columns]"
            ]
          },
          "metadata": {},
          "execution_count": 14
        }
      ]
    },
    {
      "cell_type": "code",
      "metadata": {
        "id": "dqPWQjPvvpbU"
      },
      "source": [
        "data[\"Close\"] = data[\"Close\"].str.replace('$', '').astype(float)\n",
        "data[\"Open\"] = data[\"Open\"].str.replace('$', '').astype(float)\n",
        "data[\"High\"] = data[\"High\"].str.replace('$', '').astype(float)\n",
        "data[\"Low\"] = data[\"Low\"].str.replace('$', '').astype(float)"
      ],
      "execution_count": 15,
      "outputs": []
    },
    {
      "cell_type": "code",
      "metadata": {
        "colab": {
          "base_uri": "https://localhost:8080/",
          "height": 203
        },
        "id": "6xgvueC6vs7S",
        "outputId": "d0ef971d-cf5d-428c-a871-21d282a74891"
      },
      "source": [
        "data.head()"
      ],
      "execution_count": 16,
      "outputs": [
        {
          "output_type": "execute_result",
          "data": {
            "text/html": [
              "<div>\n",
              "<style scoped>\n",
              "    .dataframe tbody tr th:only-of-type {\n",
              "        vertical-align: middle;\n",
              "    }\n",
              "\n",
              "    .dataframe tbody tr th {\n",
              "        vertical-align: top;\n",
              "    }\n",
              "\n",
              "    .dataframe thead th {\n",
              "        text-align: right;\n",
              "    }\n",
              "</style>\n",
              "<table border=\"1\" class=\"dataframe\">\n",
              "  <thead>\n",
              "    <tr style=\"text-align: right;\">\n",
              "      <th></th>\n",
              "      <th>Date</th>\n",
              "      <th>Headlines</th>\n",
              "      <th>Close</th>\n",
              "      <th>Volume</th>\n",
              "      <th>Open</th>\n",
              "      <th>High</th>\n",
              "      <th>Low</th>\n",
              "    </tr>\n",
              "  </thead>\n",
              "  <tbody>\n",
              "    <tr>\n",
              "      <th>0</th>\n",
              "      <td>2015-04-01</td>\n",
              "      <td>Donald Yacktman on the Sources of Moats, His C...</td>\n",
              "      <td>81.665</td>\n",
              "      <td>22028080</td>\n",
              "      <td>82.50</td>\n",
              "      <td>82.72</td>\n",
              "      <td>80.87</td>\n",
              "    </tr>\n",
              "    <tr>\n",
              "      <th>1</th>\n",
              "      <td>2015-05-01</td>\n",
              "      <td>SIM-free iPhone 6, 6 Plus reportedly debuting ...</td>\n",
              "      <td>78.990</td>\n",
              "      <td>22811310</td>\n",
              "      <td>79.24</td>\n",
              "      <td>79.76</td>\n",
              "      <td>78.11</td>\n",
              "    </tr>\n",
              "    <tr>\n",
              "      <th>2</th>\n",
              "      <td>2015-06-01</td>\n",
              "      <td>Technology Transforming Cars Into \"Phones On W...</td>\n",
              "      <td>80.290</td>\n",
              "      <td>18106110</td>\n",
              "      <td>79.30</td>\n",
              "      <td>80.38</td>\n",
              "      <td>78.66</td>\n",
              "    </tr>\n",
              "    <tr>\n",
              "      <th>3</th>\n",
              "      <td>2015-07-01</td>\n",
              "      <td>Apple issues fourth developer beta of OS X 10....</td>\n",
              "      <td>86.910</td>\n",
              "      <td>25198260</td>\n",
              "      <td>86.77</td>\n",
              "      <td>87.95</td>\n",
              "      <td>86.49</td>\n",
              "    </tr>\n",
              "    <tr>\n",
              "      <th>4</th>\n",
              "      <td>2015-09-01</td>\n",
              "      <td>Samsung is reportedly making a secret new chip...</td>\n",
              "      <td>87.230</td>\n",
              "      <td>35958020</td>\n",
              "      <td>86.85</td>\n",
              "      <td>89.39</td>\n",
              "      <td>86.50</td>\n",
              "    </tr>\n",
              "  </tbody>\n",
              "</table>\n",
              "</div>"
            ],
            "text/plain": [
              "        Date                                          Headlines  ...   High    Low\n",
              "0 2015-04-01  Donald Yacktman on the Sources of Moats, His C...  ...  82.72  80.87\n",
              "1 2015-05-01  SIM-free iPhone 6, 6 Plus reportedly debuting ...  ...  79.76  78.11\n",
              "2 2015-06-01  Technology Transforming Cars Into \"Phones On W...  ...  80.38  78.66\n",
              "3 2015-07-01  Apple issues fourth developer beta of OS X 10....  ...  87.95  86.49\n",
              "4 2015-09-01  Samsung is reportedly making a secret new chip...  ...  89.39  86.50\n",
              "\n",
              "[5 rows x 7 columns]"
            ]
          },
          "metadata": {},
          "execution_count": 16
        }
      ]
    },
    {
      "cell_type": "code",
      "metadata": {
        "id": "PaMwBfIyvu9C"
      },
      "source": [
        "data.reset_index(inplace=True)\n",
        "data_1=data[[\"Date\",\"Close\"]]"
      ],
      "execution_count": 17,
      "outputs": []
    },
    {
      "cell_type": "code",
      "metadata": {
        "id": "naGy2A0Ovy6F"
      },
      "source": [
        "data_1=data[[\"Date\",\"Close\"]]"
      ],
      "execution_count": 18,
      "outputs": []
    },
    {
      "cell_type": "code",
      "metadata": {
        "id": "XSNcIEE6v2F_"
      },
      "source": [
        "data_1=data_1.rename(columns={\"Date\": \"ds\", \"Close\": \"y\"})"
      ],
      "execution_count": 19,
      "outputs": []
    },
    {
      "cell_type": "code",
      "metadata": {
        "colab": {
          "base_uri": "https://localhost:8080/",
          "height": 203
        },
        "id": "AQ4CHO06v3is",
        "outputId": "cb776644-3c10-4ee3-a0c5-ef307cd3f8f8"
      },
      "source": [
        "data_1.head()"
      ],
      "execution_count": 20,
      "outputs": [
        {
          "output_type": "execute_result",
          "data": {
            "text/html": [
              "<div>\n",
              "<style scoped>\n",
              "    .dataframe tbody tr th:only-of-type {\n",
              "        vertical-align: middle;\n",
              "    }\n",
              "\n",
              "    .dataframe tbody tr th {\n",
              "        vertical-align: top;\n",
              "    }\n",
              "\n",
              "    .dataframe thead th {\n",
              "        text-align: right;\n",
              "    }\n",
              "</style>\n",
              "<table border=\"1\" class=\"dataframe\">\n",
              "  <thead>\n",
              "    <tr style=\"text-align: right;\">\n",
              "      <th></th>\n",
              "      <th>ds</th>\n",
              "      <th>y</th>\n",
              "    </tr>\n",
              "  </thead>\n",
              "  <tbody>\n",
              "    <tr>\n",
              "      <th>0</th>\n",
              "      <td>2015-04-01</td>\n",
              "      <td>81.665</td>\n",
              "    </tr>\n",
              "    <tr>\n",
              "      <th>1</th>\n",
              "      <td>2015-05-01</td>\n",
              "      <td>78.990</td>\n",
              "    </tr>\n",
              "    <tr>\n",
              "      <th>2</th>\n",
              "      <td>2015-06-01</td>\n",
              "      <td>80.290</td>\n",
              "    </tr>\n",
              "    <tr>\n",
              "      <th>3</th>\n",
              "      <td>2015-07-01</td>\n",
              "      <td>86.910</td>\n",
              "    </tr>\n",
              "    <tr>\n",
              "      <th>4</th>\n",
              "      <td>2015-09-01</td>\n",
              "      <td>87.230</td>\n",
              "    </tr>\n",
              "  </tbody>\n",
              "</table>\n",
              "</div>"
            ],
            "text/plain": [
              "          ds       y\n",
              "0 2015-04-01  81.665\n",
              "1 2015-05-01  78.990\n",
              "2 2015-06-01  80.290\n",
              "3 2015-07-01  86.910\n",
              "4 2015-09-01  87.230"
            ]
          },
          "metadata": {},
          "execution_count": 20
        }
      ]
    },
    {
      "cell_type": "markdown",
      "metadata": {
        "id": "4uGzWFOBv_rr"
      },
      "source": [
        "**Prophet model**:Prophet is a procedure for forecasting time series data based on an additive model where non-linear trends are fit with yearly, weekly, and daily seasonality, plus holiday effects. It works best with time series that have strong seasonal effects and several seasons of historical data."
      ]
    },
    {
      "cell_type": "code",
      "metadata": {
        "colab": {
          "base_uri": "https://localhost:8080/"
        },
        "id": "jZbar-c2v710",
        "outputId": "c8700593-627b-4aea-bfbd-2d2bf6025e1d"
      },
      "source": [
        "from fbprophet import Prophet\n",
        "m = Prophet(daily_seasonality = True) # the Prophet class (model)\n",
        "m.fit(data_1) "
      ],
      "execution_count": 21,
      "outputs": [
        {
          "output_type": "stream",
          "name": "stderr",
          "text": [
            "INFO:numexpr.utils:NumExpr defaulting to 2 threads.\n"
          ]
        },
        {
          "output_type": "execute_result",
          "data": {
            "text/plain": [
              "<fbprophet.forecaster.Prophet at 0x7f7b96914b50>"
            ]
          },
          "metadata": {},
          "execution_count": 21
        }
      ]
    },
    {
      "cell_type": "code",
      "metadata": {
        "colab": {
          "base_uri": "https://localhost:8080/",
          "height": 456
        },
        "id": "VDLcffx9wHZf",
        "outputId": "497637df-c4d4-4458-c130-67b5ba8859e6"
      },
      "source": [
        "future = m.make_future_dataframe(periods=365) #we need to specify the number of days in future\n",
        "prediction = m.predict(future)\n",
        "m.plot(prediction)\n",
        "plt.title(\"Prediction of the Facebook Stock Price using the Prophet\")\n",
        "plt.xlabel(\"Date\")\n",
        "plt.ylabel(\"Close Stock Price\")\n",
        "plt.show()"
      ],
      "execution_count": 22,
      "outputs": [
        {
          "output_type": "display_data",
          "data": {
            "image/png": "[encoded data removed]",
            "text/plain": [
              "<Figure size 720x432 with 1 Axes>"
            ]
          },
          "metadata": {}
        }
      ]
    },
    {
      "cell_type": "code",
      "metadata": {
        "colab": {
          "base_uri": "https://localhost:8080/",
          "height": 876
        },
        "id": "aKGEPxPdwNMX",
        "outputId": "fcf58869-d15f-4c38-d834-9fb4c435844c"
      },
      "source": [
        "m.plot_components(prediction)\n",
        "plt.show()"
      ],
      "execution_count": 23,
      "outputs": [
        {
          "output_type": "display_data",
          "data": {
            "image/png": "[encoded data removed]",
            "text/plain": [
              "<Figure size 648x864 with 4 Axes>"
            ]
          },
          "metadata": {}
        }
      ]
    },
    {
      "cell_type": "code",
      "metadata": {
        "colab": {
          "base_uri": "https://localhost:8080/",
          "height": 234
        },
        "id": "tTPxJEdPwVPF",
        "outputId": "b832a625-68bf-4c8f-df8c-b9f573f1907b"
      },
      "source": [
        "data.set_index(\"Date\", inplace = True)\n",
        "data.head()"
      ],
      "execution_count": 24,
      "outputs": [
        {
          "output_type": "execute_result",
          "data": {
            "text/html": [
              "<div>\n",
              "<style scoped>\n",
              "    .dataframe tbody tr th:only-of-type {\n",
              "        vertical-align: middle;\n",
              "    }\n",
              "\n",
              "    .dataframe tbody tr th {\n",
              "        vertical-align: top;\n",
              "    }\n",
              "\n",
              "    .dataframe thead th {\n",
              "        text-align: right;\n",
              "    }\n",
              "</style>\n",
              "<table border=\"1\" class=\"dataframe\">\n",
              "  <thead>\n",
              "    <tr style=\"text-align: right;\">\n",
              "      <th></th>\n",
              "      <th>index</th>\n",
              "      <th>Headlines</th>\n",
              "      <th>Close</th>\n",
              "      <th>Volume</th>\n",
              "      <th>Open</th>\n",
              "      <th>High</th>\n",
              "      <th>Low</th>\n",
              "    </tr>\n",
              "    <tr>\n",
              "      <th>Date</th>\n",
              "      <th></th>\n",
              "      <th></th>\n",
              "      <th></th>\n",
              "      <th></th>\n",
              "      <th></th>\n",
              "      <th></th>\n",
              "      <th></th>\n",
              "    </tr>\n",
              "  </thead>\n",
              "  <tbody>\n",
              "    <tr>\n",
              "      <th>2015-04-01</th>\n",
              "      <td>0</td>\n",
              "      <td>Donald Yacktman on the Sources of Moats, His C...</td>\n",
              "      <td>81.665</td>\n",
              "      <td>22028080</td>\n",
              "      <td>82.50</td>\n",
              "      <td>82.72</td>\n",
              "      <td>80.87</td>\n",
              "    </tr>\n",
              "    <tr>\n",
              "      <th>2015-05-01</th>\n",
              "      <td>1</td>\n",
              "      <td>SIM-free iPhone 6, 6 Plus reportedly debuting ...</td>\n",
              "      <td>78.990</td>\n",
              "      <td>22811310</td>\n",
              "      <td>79.24</td>\n",
              "      <td>79.76</td>\n",
              "      <td>78.11</td>\n",
              "    </tr>\n",
              "    <tr>\n",
              "      <th>2015-06-01</th>\n",
              "      <td>2</td>\n",
              "      <td>Technology Transforming Cars Into \"Phones On W...</td>\n",
              "      <td>80.290</td>\n",
              "      <td>18106110</td>\n",
              "      <td>79.30</td>\n",
              "      <td>80.38</td>\n",
              "      <td>78.66</td>\n",
              "    </tr>\n",
              "    <tr>\n",
              "      <th>2015-07-01</th>\n",
              "      <td>3</td>\n",
              "      <td>Apple issues fourth developer beta of OS X 10....</td>\n",
              "      <td>86.910</td>\n",
              "      <td>25198260</td>\n",
              "      <td>86.77</td>\n",
              "      <td>87.95</td>\n",
              "      <td>86.49</td>\n",
              "    </tr>\n",
              "    <tr>\n",
              "      <th>2015-09-01</th>\n",
              "      <td>4</td>\n",
              "      <td>Samsung is reportedly making a secret new chip...</td>\n",
              "      <td>87.230</td>\n",
              "      <td>35958020</td>\n",
              "      <td>86.85</td>\n",
              "      <td>89.39</td>\n",
              "      <td>86.50</td>\n",
              "    </tr>\n",
              "  </tbody>\n",
              "</table>\n",
              "</div>"
            ],
            "text/plain": [
              "            index  ...    Low\n",
              "Date               ...       \n",
              "2015-04-01      0  ...  80.87\n",
              "2015-05-01      1  ...  78.11\n",
              "2015-06-01      2  ...  78.66\n",
              "2015-07-01      3  ...  86.49\n",
              "2015-09-01      4  ...  86.50\n",
              "\n",
              "[5 rows x 7 columns]"
            ]
          },
          "metadata": {},
          "execution_count": 24
        }
      ]
    },
    {
      "cell_type": "code",
      "metadata": {
        "colab": {
          "base_uri": "https://localhost:8080/",
          "height": 234
        },
        "id": "r-weIT0OwZTx",
        "outputId": "4e9d6a37-4bf4-4644-fdb7-2035ff0ca9ef"
      },
      "source": [
        "data.sort_index(ascending=True,inplace=True)\n",
        "data.head()"
      ],
      "execution_count": 25,
      "outputs": [
        {
          "output_type": "execute_result",
          "data": {
            "text/html": [
              "<div>\n",
              "<style scoped>\n",
              "    .dataframe tbody tr th:only-of-type {\n",
              "        vertical-align: middle;\n",
              "    }\n",
              "\n",
              "    .dataframe tbody tr th {\n",
              "        vertical-align: top;\n",
              "    }\n",
              "\n",
              "    .dataframe thead th {\n",
              "        text-align: right;\n",
              "    }\n",
              "</style>\n",
              "<table border=\"1\" class=\"dataframe\">\n",
              "  <thead>\n",
              "    <tr style=\"text-align: right;\">\n",
              "      <th></th>\n",
              "      <th>index</th>\n",
              "      <th>Headlines</th>\n",
              "      <th>Close</th>\n",
              "      <th>Volume</th>\n",
              "      <th>Open</th>\n",
              "      <th>High</th>\n",
              "      <th>Low</th>\n",
              "    </tr>\n",
              "    <tr>\n",
              "      <th>Date</th>\n",
              "      <th></th>\n",
              "      <th></th>\n",
              "      <th></th>\n",
              "      <th></th>\n",
              "      <th></th>\n",
              "      <th></th>\n",
              "      <th></th>\n",
              "    </tr>\n",
              "  </thead>\n",
              "  <tbody>\n",
              "    <tr>\n",
              "      <th>2015-01-02</th>\n",
              "      <td>20</td>\n",
              "      <td>Apple Loop: iOS 8.1.3 Angers Users, Outlook Ar...</td>\n",
              "      <td>78.450</td>\n",
              "      <td>18141830</td>\n",
              "      <td>78.58</td>\n",
              "      <td>78.9300</td>\n",
              "      <td>77.700</td>\n",
              "    </tr>\n",
              "    <tr>\n",
              "      <th>2015-01-05</th>\n",
              "      <td>82</td>\n",
              "      <td>Apple Watch interest described as &amp;quot;tepid,...</td>\n",
              "      <td>77.190</td>\n",
              "      <td>26392340</td>\n",
              "      <td>77.98</td>\n",
              "      <td>79.2455</td>\n",
              "      <td>76.860</td>\n",
              "    </tr>\n",
              "    <tr>\n",
              "      <th>2015-01-06</th>\n",
              "      <td>102</td>\n",
              "      <td>Apple&amp;quot;s TV Service Delayed: Getting Local...</td>\n",
              "      <td>76.150</td>\n",
              "      <td>27365180</td>\n",
              "      <td>77.23</td>\n",
              "      <td>77.5900</td>\n",
              "      <td>75.365</td>\n",
              "    </tr>\n",
              "    <tr>\n",
              "      <th>2015-01-07</th>\n",
              "      <td>123</td>\n",
              "      <td>Apple Inc. leaks new iPod colors in iTunes 12....</td>\n",
              "      <td>76.150</td>\n",
              "      <td>22015250</td>\n",
              "      <td>76.76</td>\n",
              "      <td>77.3600</td>\n",
              "      <td>75.820</td>\n",
              "    </tr>\n",
              "    <tr>\n",
              "      <th>2015-01-08</th>\n",
              "      <td>145</td>\n",
              "      <td>Nomura Begins Coverage on Apple (AAPL) IBM cou...</td>\n",
              "      <td>78.175</td>\n",
              "      <td>23931830</td>\n",
              "      <td>76.74</td>\n",
              "      <td>78.2300</td>\n",
              "      <td>76.080</td>\n",
              "    </tr>\n",
              "  </tbody>\n",
              "</table>\n",
              "</div>"
            ],
            "text/plain": [
              "            index  ...     Low\n",
              "Date               ...        \n",
              "2015-01-02     20  ...  77.700\n",
              "2015-01-05     82  ...  76.860\n",
              "2015-01-06    102  ...  75.365\n",
              "2015-01-07    123  ...  75.820\n",
              "2015-01-08    145  ...  76.080\n",
              "\n",
              "[5 rows x 7 columns]"
            ]
          },
          "metadata": {},
          "execution_count": 25
        }
      ]
    },
    {
      "cell_type": "code",
      "metadata": {
        "colab": {
          "base_uri": "https://localhost:8080/"
        },
        "id": "6Gca9UrUwcS-",
        "outputId": "6d196b4c-4987-47b6-c006-17f76657fb9a"
      },
      "source": [
        "data.shape"
      ],
      "execution_count": 26,
      "outputs": [
        {
          "output_type": "execute_result",
          "data": {
            "text/plain": [
              "(1595, 7)"
            ]
          },
          "metadata": {},
          "execution_count": 26
        }
      ]
    },
    {
      "cell_type": "code",
      "metadata": {
        "colab": {
          "base_uri": "https://localhost:8080/",
          "height": 579
        },
        "id": "Zzf4Cb_xwfg5",
        "outputId": "1f062191-e7be-47d0-c946-b23e604bca24"
      },
      "source": [
        "plt.figure(figsize=(16,9))\n",
        "plt.title('Close Price History of Facebook', fontsize = 20)\n",
        "plt.plot(data['Close'])\n",
        "plt.xlabel('Date', fontsize = 16, color = 'g')\n",
        "plt.ylabel('Close Price USD ($)', fontsize = 16, color = 'g')\n",
        "plt.xticks(fontsize = 12)\n",
        "plt.yticks(fontsize = 12)\n",
        "plt.show()"
      ],
      "execution_count": 27,
      "outputs": [
        {
          "output_type": "display_data",
          "data": {
            "image/png": "[encoded data removed]",
            "text/plain": [
              "<Figure size 1152x648 with 1 Axes>"
            ]
          },
          "metadata": {
            "needs_background": "light"
          }
        }
      ]
    },
    {
      "cell_type": "code",
      "metadata": {
        "id": "gWLE4qCjwv_s"
      },
      "source": [
        "import os"
      ],
      "execution_count": 28,
      "outputs": []
    },
    {
      "cell_type": "code",
      "metadata": {
        "id": "Xg-0DBM0wxJj"
      },
      "source": [
        "data.to_csv('NewsandHistoricaldata.csv')"
      ],
      "execution_count": 29,
      "outputs": []
    },
    {
      "cell_type": "code",
      "metadata": {
        "colab": {
          "base_uri": "https://localhost:8080/",
          "height": 234
        },
        "id": "H03e1d0Iw8_n",
        "outputId": "e85b8d4e-5ffc-4bb7-d989-8494667ab402"
      },
      "source": [
        "data['compound'] = ''\n",
        "data['negative'] = ''\n",
        "data['neutral'] = ''\n",
        "data['positive'] = ''\n",
        "data.head()"
      ],
      "execution_count": 30,
      "outputs": [
        {
          "output_type": "execute_result",
          "data": {
            "text/html": [
              "<div>\n",
              "<style scoped>\n",
              "    .dataframe tbody tr th:only-of-type {\n",
              "        vertical-align: middle;\n",
              "    }\n",
              "\n",
              "    .dataframe tbody tr th {\n",
              "        vertical-align: top;\n",
              "    }\n",
              "\n",
              "    .dataframe thead th {\n",
              "        text-align: right;\n",
              "    }\n",
              "</style>\n",
              "<table border=\"1\" class=\"dataframe\">\n",
              "  <thead>\n",
              "    <tr style=\"text-align: right;\">\n",
              "      <th></th>\n",
              "      <th>index</th>\n",
              "      <th>Headlines</th>\n",
              "      <th>Close</th>\n",
              "      <th>Volume</th>\n",
              "      <th>Open</th>\n",
              "      <th>High</th>\n",
              "      <th>Low</th>\n",
              "      <th>compound</th>\n",
              "      <th>negative</th>\n",
              "      <th>neutral</th>\n",
              "      <th>positive</th>\n",
              "    </tr>\n",
              "    <tr>\n",
              "      <th>Date</th>\n",
              "      <th></th>\n",
              "      <th></th>\n",
              "      <th></th>\n",
              "      <th></th>\n",
              "      <th></th>\n",
              "      <th></th>\n",
              "      <th></th>\n",
              "      <th></th>\n",
              "      <th></th>\n",
              "      <th></th>\n",
              "      <th></th>\n",
              "    </tr>\n",
              "  </thead>\n",
              "  <tbody>\n",
              "    <tr>\n",
              "      <th>2015-01-02</th>\n",
              "      <td>20</td>\n",
              "      <td>Apple Loop: iOS 8.1.3 Angers Users, Outlook Ar...</td>\n",
              "      <td>78.450</td>\n",
              "      <td>18141830</td>\n",
              "      <td>78.58</td>\n",
              "      <td>78.9300</td>\n",
              "      <td>77.700</td>\n",
              "      <td></td>\n",
              "      <td></td>\n",
              "      <td></td>\n",
              "      <td></td>\n",
              "    </tr>\n",
              "    <tr>\n",
              "      <th>2015-01-05</th>\n",
              "      <td>82</td>\n",
              "      <td>Apple Watch interest described as &amp;quot;tepid,...</td>\n",
              "      <td>77.190</td>\n",
              "      <td>26392340</td>\n",
              "      <td>77.98</td>\n",
              "      <td>79.2455</td>\n",
              "      <td>76.860</td>\n",
              "      <td></td>\n",
              "      <td></td>\n",
              "      <td></td>\n",
              "      <td></td>\n",
              "    </tr>\n",
              "    <tr>\n",
              "      <th>2015-01-06</th>\n",
              "      <td>102</td>\n",
              "      <td>Apple&amp;quot;s TV Service Delayed: Getting Local...</td>\n",
              "      <td>76.150</td>\n",
              "      <td>27365180</td>\n",
              "      <td>77.23</td>\n",
              "      <td>77.5900</td>\n",
              "      <td>75.365</td>\n",
              "      <td></td>\n",
              "      <td></td>\n",
              "      <td></td>\n",
              "      <td></td>\n",
              "    </tr>\n",
              "    <tr>\n",
              "      <th>2015-01-07</th>\n",
              "      <td>123</td>\n",
              "      <td>Apple Inc. leaks new iPod colors in iTunes 12....</td>\n",
              "      <td>76.150</td>\n",
              "      <td>22015250</td>\n",
              "      <td>76.76</td>\n",
              "      <td>77.3600</td>\n",
              "      <td>75.820</td>\n",
              "      <td></td>\n",
              "      <td></td>\n",
              "      <td></td>\n",
              "      <td></td>\n",
              "    </tr>\n",
              "    <tr>\n",
              "      <th>2015-01-08</th>\n",
              "      <td>145</td>\n",
              "      <td>Nomura Begins Coverage on Apple (AAPL) IBM cou...</td>\n",
              "      <td>78.175</td>\n",
              "      <td>23931830</td>\n",
              "      <td>76.74</td>\n",
              "      <td>78.2300</td>\n",
              "      <td>76.080</td>\n",
              "      <td></td>\n",
              "      <td></td>\n",
              "      <td></td>\n",
              "      <td></td>\n",
              "    </tr>\n",
              "  </tbody>\n",
              "</table>\n",
              "</div>"
            ],
            "text/plain": [
              "            index  ... positive\n",
              "Date               ...         \n",
              "2015-01-02     20  ...         \n",
              "2015-01-05     82  ...         \n",
              "2015-01-06    102  ...         \n",
              "2015-01-07    123  ...         \n",
              "2015-01-08    145  ...         \n",
              "\n",
              "[5 rows x 11 columns]"
            ]
          },
          "metadata": {},
          "execution_count": 30
        }
      ]
    },
    {
      "cell_type": "code",
      "metadata": {
        "colab": {
          "base_uri": "https://localhost:8080/"
        },
        "id": "dFY6g9EzxA3B",
        "outputId": "1f8906ec-ae2f-4d01-ea07-ddf140fa3ab2"
      },
      "source": [
        "import nltk\n",
        "nltk.download('vader_lexicon')"
      ],
      "execution_count": 31,
      "outputs": [
        {
          "output_type": "stream",
          "name": "stdout",
          "text": [
            "[nltk_data] Downloading package vader_lexicon to /root/nltk_data...\n"
          ]
        },
        {
          "output_type": "execute_result",
          "data": {
            "text/plain": [
              "True"
            ]
          },
          "metadata": {},
          "execution_count": 31
        }
      ]
    },
    {
      "cell_type": "code",
      "metadata": {
        "id": "STlUu-YKxCc2"
      },
      "source": [
        "from nltk.sentiment.vader import SentimentIntensityAnalyzer\n",
        "import unicodedata"
      ],
      "execution_count": 32,
      "outputs": []
    },
    {
      "cell_type": "code",
      "metadata": {
        "id": "te_jh1o_xHpG"
      },
      "source": [
        "sid = SentimentIntensityAnalyzer()\n",
        "\n",
        "data['compound'] = data['Headlines'].apply(lambda x: sid.polarity_scores(x)['compound'])\n",
        "data['negative'] = data['Headlines'].apply(lambda x: sid.polarity_scores(x)['neg'])\n",
        "data['neutral'] = data['Headlines'].apply(lambda x: sid.polarity_scores(x)['neu'])\n",
        "data['positive'] = data['Headlines'].apply(lambda x: sid.polarity_scores(x)['pos'])"
      ],
      "execution_count": 33,
      "outputs": []
    },
    {
      "cell_type": "code",
      "metadata": {
        "id": "qr2H21WJxTl_"
      },
      "source": [
        "from textblob import TextBlob"
      ],
      "execution_count": 35,
      "outputs": []
    },
    {
      "cell_type": "code",
      "metadata": {
        "colab": {
          "base_uri": "https://localhost:8080/",
          "height": 447
        },
        "id": "Tzcpxhrgxy_K",
        "outputId": "c05238d2-6310-4374-dc3d-6c083dcaf8b5"
      },
      "source": [
        "def getsubjectivity(text):\n",
        "    return TextBlob(text).sentiment.subjectivity\n",
        "\n",
        "def getpolarity(text):\n",
        "    return TextBlob(text).sentiment.polarity\n",
        "\n",
        "data['Subjectivity']=data['Headlines'].apply(getsubjectivity)\n",
        "data['Polarity']=data['Headlines'].apply(getpolarity)\n",
        "data"
      ],
      "execution_count": 36,
      "outputs": [
        {
          "output_type": "execute_result",
          "data": {
            "text/html": [
              "<div>\n",
              "<style scoped>\n",
              "    .dataframe tbody tr th:only-of-type {\n",
              "        vertical-align: middle;\n",
              "    }\n",
              "\n",
              "    .dataframe tbody tr th {\n",
              "        vertical-align: top;\n",
              "    }\n",
              "\n",
              "    .dataframe thead th {\n",
              "        text-align: right;\n",
              "    }\n",
              "</style>\n",
              "<table border=\"1\" class=\"dataframe\">\n",
              "  <thead>\n",
              "    <tr style=\"text-align: right;\">\n",
              "      <th></th>\n",
              "      <th>index</th>\n",
              "      <th>Headlines</th>\n",
              "      <th>Close</th>\n",
              "      <th>Volume</th>\n",
              "      <th>Open</th>\n",
              "      <th>High</th>\n",
              "      <th>Low</th>\n",
              "      <th>compound</th>\n",
              "      <th>negative</th>\n",
              "      <th>neutral</th>\n",
              "      <th>positive</th>\n",
              "      <th>Subjectivity</th>\n",
              "      <th>Polarity</th>\n",
              "    </tr>\n",
              "    <tr>\n",
              "      <th>Date</th>\n",
              "      <th></th>\n",
              "      <th></th>\n",
              "      <th></th>\n",
              "      <th></th>\n",
              "      <th></th>\n",
              "      <th></th>\n",
              "      <th></th>\n",
              "      <th></th>\n",
              "      <th></th>\n",
              "      <th></th>\n",
              "      <th></th>\n",
              "      <th></th>\n",
              "      <th></th>\n",
              "    </tr>\n",
              "  </thead>\n",
              "  <tbody>\n",
              "    <tr>\n",
              "      <th>2015-01-02</th>\n",
              "      <td>20</td>\n",
              "      <td>Apple Loop: iOS 8.1.3 Angers Users, Outlook Ar...</td>\n",
              "      <td>78.450</td>\n",
              "      <td>18141830</td>\n",
              "      <td>78.58</td>\n",
              "      <td>78.9300</td>\n",
              "      <td>77.7000</td>\n",
              "      <td>0.1943</td>\n",
              "      <td>0.116</td>\n",
              "      <td>0.749</td>\n",
              "      <td>0.135</td>\n",
              "      <td>0.789286</td>\n",
              "      <td>0.364286</td>\n",
              "    </tr>\n",
              "    <tr>\n",
              "      <th>2015-01-05</th>\n",
              "      <td>82</td>\n",
              "      <td>Apple Watch interest described as &amp;quot;tepid,...</td>\n",
              "      <td>77.190</td>\n",
              "      <td>26392340</td>\n",
              "      <td>77.98</td>\n",
              "      <td>79.2455</td>\n",
              "      <td>76.8600</td>\n",
              "      <td>0.9748</td>\n",
              "      <td>0.061</td>\n",
              "      <td>0.831</td>\n",
              "      <td>0.107</td>\n",
              "      <td>0.432742</td>\n",
              "      <td>0.121804</td>\n",
              "    </tr>\n",
              "    <tr>\n",
              "      <th>2015-01-06</th>\n",
              "      <td>102</td>\n",
              "      <td>Apple&amp;quot;s TV Service Delayed: Getting Local...</td>\n",
              "      <td>76.150</td>\n",
              "      <td>27365180</td>\n",
              "      <td>77.23</td>\n",
              "      <td>77.5900</td>\n",
              "      <td>75.3650</td>\n",
              "      <td>0.9932</td>\n",
              "      <td>0.034</td>\n",
              "      <td>0.862</td>\n",
              "      <td>0.105</td>\n",
              "      <td>0.323315</td>\n",
              "      <td>0.163185</td>\n",
              "    </tr>\n",
              "    <tr>\n",
              "      <th>2015-01-07</th>\n",
              "      <td>123</td>\n",
              "      <td>Apple Inc. leaks new iPod colors in iTunes 12....</td>\n",
              "      <td>76.150</td>\n",
              "      <td>22015250</td>\n",
              "      <td>76.76</td>\n",
              "      <td>77.3600</td>\n",
              "      <td>75.8200</td>\n",
              "      <td>0.9866</td>\n",
              "      <td>0.059</td>\n",
              "      <td>0.812</td>\n",
              "      <td>0.129</td>\n",
              "      <td>0.399957</td>\n",
              "      <td>0.173163</td>\n",
              "    </tr>\n",
              "    <tr>\n",
              "      <th>2015-01-08</th>\n",
              "      <td>145</td>\n",
              "      <td>Nomura Begins Coverage on Apple (AAPL) IBM cou...</td>\n",
              "      <td>78.175</td>\n",
              "      <td>23931830</td>\n",
              "      <td>76.74</td>\n",
              "      <td>78.2300</td>\n",
              "      <td>76.0800</td>\n",
              "      <td>0.4939</td>\n",
              "      <td>0.059</td>\n",
              "      <td>0.827</td>\n",
              "      <td>0.114</td>\n",
              "      <td>0.404167</td>\n",
              "      <td>0.170833</td>\n",
              "    </tr>\n",
              "    <tr>\n",
              "      <th>...</th>\n",
              "      <td>...</td>\n",
              "      <td>...</td>\n",
              "      <td>...</td>\n",
              "      <td>...</td>\n",
              "      <td>...</td>\n",
              "      <td>...</td>\n",
              "      <td>...</td>\n",
              "      <td>...</td>\n",
              "      <td>...</td>\n",
              "      <td>...</td>\n",
              "      <td>...</td>\n",
              "      <td>...</td>\n",
              "      <td>...</td>\n",
              "    </tr>\n",
              "    <tr>\n",
              "      <th>2021-05-28</th>\n",
              "      <td>1591</td>\n",
              "      <td>Apple pushes back launch of podcast subscripti...</td>\n",
              "      <td>328.730</td>\n",
              "      <td>12037430</td>\n",
              "      <td>331.00</td>\n",
              "      <td>332.8684</td>\n",
              "      <td>328.3300</td>\n",
              "      <td>0.9937</td>\n",
              "      <td>0.049</td>\n",
              "      <td>0.845</td>\n",
              "      <td>0.105</td>\n",
              "      <td>0.378480</td>\n",
              "      <td>0.214482</td>\n",
              "    </tr>\n",
              "    <tr>\n",
              "      <th>2021-06-01</th>\n",
              "      <td>1514</td>\n",
              "      <td>TSX nears record high as cannabis, renewables ...</td>\n",
              "      <td>329.130</td>\n",
              "      <td>11765910</td>\n",
              "      <td>330.15</td>\n",
              "      <td>331.4200</td>\n",
              "      <td>326.6400</td>\n",
              "      <td>0.9976</td>\n",
              "      <td>0.046</td>\n",
              "      <td>0.836</td>\n",
              "      <td>0.118</td>\n",
              "      <td>0.400223</td>\n",
              "      <td>0.152232</td>\n",
              "    </tr>\n",
              "    <tr>\n",
              "      <th>2021-06-02</th>\n",
              "      <td>1529</td>\n",
              "      <td>Exclusive Social Media App Clubhouse Rises In ...</td>\n",
              "      <td>329.150</td>\n",
              "      <td>11654280</td>\n",
              "      <td>330.38</td>\n",
              "      <td>331.8700</td>\n",
              "      <td>327.1215</td>\n",
              "      <td>0.7719</td>\n",
              "      <td>0.070</td>\n",
              "      <td>0.835</td>\n",
              "      <td>0.095</td>\n",
              "      <td>0.329710</td>\n",
              "      <td>0.144451</td>\n",
              "    </tr>\n",
              "    <tr>\n",
              "      <th>2021-06-03</th>\n",
              "      <td>1542</td>\n",
              "      <td>Two Patents were fulfilled last week as the Ma...</td>\n",
              "      <td>326.040</td>\n",
              "      <td>12610790</td>\n",
              "      <td>325.78</td>\n",
              "      <td>327.3750</td>\n",
              "      <td>323.4800</td>\n",
              "      <td>-0.3348</td>\n",
              "      <td>0.074</td>\n",
              "      <td>0.857</td>\n",
              "      <td>0.069</td>\n",
              "      <td>0.445871</td>\n",
              "      <td>0.060720</td>\n",
              "    </tr>\n",
              "    <tr>\n",
              "      <th>2021-06-04</th>\n",
              "      <td>1560</td>\n",
              "      <td>This Simple Stock Market Strategy Is Winning s...</td>\n",
              "      <td>330.350</td>\n",
              "      <td>13289380</td>\n",
              "      <td>325.90</td>\n",
              "      <td>332.4550</td>\n",
              "      <td>325.1800</td>\n",
              "      <td>0.9801</td>\n",
              "      <td>0.056</td>\n",
              "      <td>0.854</td>\n",
              "      <td>0.089</td>\n",
              "      <td>0.436765</td>\n",
              "      <td>0.180530</td>\n",
              "    </tr>\n",
              "  </tbody>\n",
              "</table>\n",
              "<p>1595 rows × 13 columns</p>\n",
              "</div>"
            ],
            "text/plain": [
              "            index  ...  Polarity\n",
              "Date               ...          \n",
              "2015-01-02     20  ...  0.364286\n",
              "2015-01-05     82  ...  0.121804\n",
              "2015-01-06    102  ...  0.163185\n",
              "2015-01-07    123  ...  0.173163\n",
              "2015-01-08    145  ...  0.170833\n",
              "...           ...  ...       ...\n",
              "2021-05-28   1591  ...  0.214482\n",
              "2021-06-01   1514  ...  0.152232\n",
              "2021-06-02   1529  ...  0.144451\n",
              "2021-06-03   1542  ...  0.060720\n",
              "2021-06-04   1560  ...  0.180530\n",
              "\n",
              "[1595 rows x 13 columns]"
            ]
          },
          "metadata": {},
          "execution_count": 36
        }
      ]
    },
    {
      "cell_type": "code",
      "metadata": {
        "colab": {
          "base_uri": "https://localhost:8080/",
          "height": 234
        },
        "id": "bjd_hcY-yONU",
        "outputId": "8b6e8e30-b1a1-409a-d9ac-b828cfe9570b"
      },
      "source": [
        "data.head()\n"
      ],
      "execution_count": 37,
      "outputs": [
        {
          "output_type": "execute_result",
          "data": {
            "text/html": [
              "<div>\n",
              "<style scoped>\n",
              "    .dataframe tbody tr th:only-of-type {\n",
              "        vertical-align: middle;\n",
              "    }\n",
              "\n",
              "    .dataframe tbody tr th {\n",
              "        vertical-align: top;\n",
              "    }\n",
              "\n",
              "    .dataframe thead th {\n",
              "        text-align: right;\n",
              "    }\n",
              "</style>\n",
              "<table border=\"1\" class=\"dataframe\">\n",
              "  <thead>\n",
              "    <tr style=\"text-align: right;\">\n",
              "      <th></th>\n",
              "      <th>index</th>\n",
              "      <th>Headlines</th>\n",
              "      <th>Close</th>\n",
              "      <th>Volume</th>\n",
              "      <th>Open</th>\n",
              "      <th>High</th>\n",
              "      <th>Low</th>\n",
              "      <th>compound</th>\n",
              "      <th>negative</th>\n",
              "      <th>neutral</th>\n",
              "      <th>positive</th>\n",
              "      <th>Subjectivity</th>\n",
              "      <th>Polarity</th>\n",
              "    </tr>\n",
              "    <tr>\n",
              "      <th>Date</th>\n",
              "      <th></th>\n",
              "      <th></th>\n",
              "      <th></th>\n",
              "      <th></th>\n",
              "      <th></th>\n",
              "      <th></th>\n",
              "      <th></th>\n",
              "      <th></th>\n",
              "      <th></th>\n",
              "      <th></th>\n",
              "      <th></th>\n",
              "      <th></th>\n",
              "      <th></th>\n",
              "    </tr>\n",
              "  </thead>\n",
              "  <tbody>\n",
              "    <tr>\n",
              "      <th>2015-01-02</th>\n",
              "      <td>20</td>\n",
              "      <td>Apple Loop: iOS 8.1.3 Angers Users, Outlook Ar...</td>\n",
              "      <td>78.450</td>\n",
              "      <td>18141830</td>\n",
              "      <td>78.58</td>\n",
              "      <td>78.9300</td>\n",
              "      <td>77.700</td>\n",
              "      <td>0.1943</td>\n",
              "      <td>0.116</td>\n",
              "      <td>0.749</td>\n",
              "      <td>0.135</td>\n",
              "      <td>0.789286</td>\n",
              "      <td>0.364286</td>\n",
              "    </tr>\n",
              "    <tr>\n",
              "      <th>2015-01-05</th>\n",
              "      <td>82</td>\n",
              "      <td>Apple Watch interest described as &amp;quot;tepid,...</td>\n",
              "      <td>77.190</td>\n",
              "      <td>26392340</td>\n",
              "      <td>77.98</td>\n",
              "      <td>79.2455</td>\n",
              "      <td>76.860</td>\n",
              "      <td>0.9748</td>\n",
              "      <td>0.061</td>\n",
              "      <td>0.831</td>\n",
              "      <td>0.107</td>\n",
              "      <td>0.432742</td>\n",
              "      <td>0.121804</td>\n",
              "    </tr>\n",
              "    <tr>\n",
              "      <th>2015-01-06</th>\n",
              "      <td>102</td>\n",
              "      <td>Apple&amp;quot;s TV Service Delayed: Getting Local...</td>\n",
              "      <td>76.150</td>\n",
              "      <td>27365180</td>\n",
              "      <td>77.23</td>\n",
              "      <td>77.5900</td>\n",
              "      <td>75.365</td>\n",
              "      <td>0.9932</td>\n",
              "      <td>0.034</td>\n",
              "      <td>0.862</td>\n",
              "      <td>0.105</td>\n",
              "      <td>0.323315</td>\n",
              "      <td>0.163185</td>\n",
              "    </tr>\n",
              "    <tr>\n",
              "      <th>2015-01-07</th>\n",
              "      <td>123</td>\n",
              "      <td>Apple Inc. leaks new iPod colors in iTunes 12....</td>\n",
              "      <td>76.150</td>\n",
              "      <td>22015250</td>\n",
              "      <td>76.76</td>\n",
              "      <td>77.3600</td>\n",
              "      <td>75.820</td>\n",
              "      <td>0.9866</td>\n",
              "      <td>0.059</td>\n",
              "      <td>0.812</td>\n",
              "      <td>0.129</td>\n",
              "      <td>0.399957</td>\n",
              "      <td>0.173163</td>\n",
              "    </tr>\n",
              "    <tr>\n",
              "      <th>2015-01-08</th>\n",
              "      <td>145</td>\n",
              "      <td>Nomura Begins Coverage on Apple (AAPL) IBM cou...</td>\n",
              "      <td>78.175</td>\n",
              "      <td>23931830</td>\n",
              "      <td>76.74</td>\n",
              "      <td>78.2300</td>\n",
              "      <td>76.080</td>\n",
              "      <td>0.4939</td>\n",
              "      <td>0.059</td>\n",
              "      <td>0.827</td>\n",
              "      <td>0.114</td>\n",
              "      <td>0.404167</td>\n",
              "      <td>0.170833</td>\n",
              "    </tr>\n",
              "  </tbody>\n",
              "</table>\n",
              "</div>"
            ],
            "text/plain": [
              "            index  ...  Polarity\n",
              "Date               ...          \n",
              "2015-01-02     20  ...  0.364286\n",
              "2015-01-05     82  ...  0.121804\n",
              "2015-01-06    102  ...  0.163185\n",
              "2015-01-07    123  ...  0.173163\n",
              "2015-01-08    145  ...  0.170833\n",
              "\n",
              "[5 rows x 13 columns]"
            ]
          },
          "metadata": {},
          "execution_count": 37
        }
      ]
    },
    {
      "cell_type": "code",
      "metadata": {
        "colab": {
          "base_uri": "https://localhost:8080/"
        },
        "id": "dLi3-kNuyQfG",
        "outputId": "a5635c72-9d4b-4690-8a96-fb825d01b61d"
      },
      "source": [
        "data.columns"
      ],
      "execution_count": 38,
      "outputs": [
        {
          "output_type": "execute_result",
          "data": {
            "text/plain": [
              "Index(['index', 'Headlines', 'Close', 'Volume', 'Open', 'High', 'Low',\n",
              "       'compound', 'negative', 'neutral', 'positive', 'Subjectivity',\n",
              "       'Polarity'],\n",
              "      dtype='object')"
            ]
          },
          "metadata": {},
          "execution_count": 38
        }
      ]
    },
    {
      "cell_type": "code",
      "metadata": {
        "colab": {
          "base_uri": "https://localhost:8080/",
          "height": 234
        },
        "id": "BPxrtCn1yTgG",
        "outputId": "41735975-26de-443b-b7e2-904e0d9825b8"
      },
      "source": [
        "data = data[['Close', 'compound', 'negative', 'neutral', 'positive', 'Open', 'High', 'Low', 'Volume','Subjectivity','Polarity']]\n",
        "\n",
        "data.head()"
      ],
      "execution_count": 39,
      "outputs": [
        {
          "output_type": "execute_result",
          "data": {
            "text/html": [
              "<div>\n",
              "<style scoped>\n",
              "    .dataframe tbody tr th:only-of-type {\n",
              "        vertical-align: middle;\n",
              "    }\n",
              "\n",
              "    .dataframe tbody tr th {\n",
              "        vertical-align: top;\n",
              "    }\n",
              "\n",
              "    .dataframe thead th {\n",
              "        text-align: right;\n",
              "    }\n",
              "</style>\n",
              "<table border=\"1\" class=\"dataframe\">\n",
              "  <thead>\n",
              "    <tr style=\"text-align: right;\">\n",
              "      <th></th>\n",
              "      <th>Close</th>\n",
              "      <th>compound</th>\n",
              "      <th>negative</th>\n",
              "      <th>neutral</th>\n",
              "      <th>positive</th>\n",
              "      <th>Open</th>\n",
              "      <th>High</th>\n",
              "      <th>Low</th>\n",
              "      <th>Volume</th>\n",
              "      <th>Subjectivity</th>\n",
              "      <th>Polarity</th>\n",
              "    </tr>\n",
              "    <tr>\n",
              "      <th>Date</th>\n",
              "      <th></th>\n",
              "      <th></th>\n",
              "      <th></th>\n",
              "      <th></th>\n",
              "      <th></th>\n",
              "      <th></th>\n",
              "      <th></th>\n",
              "      <th></th>\n",
              "      <th></th>\n",
              "      <th></th>\n",
              "      <th></th>\n",
              "    </tr>\n",
              "  </thead>\n",
              "  <tbody>\n",
              "    <tr>\n",
              "      <th>2015-01-02</th>\n",
              "      <td>78.450</td>\n",
              "      <td>0.1943</td>\n",
              "      <td>0.116</td>\n",
              "      <td>0.749</td>\n",
              "      <td>0.135</td>\n",
              "      <td>78.58</td>\n",
              "      <td>78.9300</td>\n",
              "      <td>77.700</td>\n",
              "      <td>18141830</td>\n",
              "      <td>0.789286</td>\n",
              "      <td>0.364286</td>\n",
              "    </tr>\n",
              "    <tr>\n",
              "      <th>2015-01-05</th>\n",
              "      <td>77.190</td>\n",
              "      <td>0.9748</td>\n",
              "      <td>0.061</td>\n",
              "      <td>0.831</td>\n",
              "      <td>0.107</td>\n",
              "      <td>77.98</td>\n",
              "      <td>79.2455</td>\n",
              "      <td>76.860</td>\n",
              "      <td>26392340</td>\n",
              "      <td>0.432742</td>\n",
              "      <td>0.121804</td>\n",
              "    </tr>\n",
              "    <tr>\n",
              "      <th>2015-01-06</th>\n",
              "      <td>76.150</td>\n",
              "      <td>0.9932</td>\n",
              "      <td>0.034</td>\n",
              "      <td>0.862</td>\n",
              "      <td>0.105</td>\n",
              "      <td>77.23</td>\n",
              "      <td>77.5900</td>\n",
              "      <td>75.365</td>\n",
              "      <td>27365180</td>\n",
              "      <td>0.323315</td>\n",
              "      <td>0.163185</td>\n",
              "    </tr>\n",
              "    <tr>\n",
              "      <th>2015-01-07</th>\n",
              "      <td>76.150</td>\n",
              "      <td>0.9866</td>\n",
              "      <td>0.059</td>\n",
              "      <td>0.812</td>\n",
              "      <td>0.129</td>\n",
              "      <td>76.76</td>\n",
              "      <td>77.3600</td>\n",
              "      <td>75.820</td>\n",
              "      <td>22015250</td>\n",
              "      <td>0.399957</td>\n",
              "      <td>0.173163</td>\n",
              "    </tr>\n",
              "    <tr>\n",
              "      <th>2015-01-08</th>\n",
              "      <td>78.175</td>\n",
              "      <td>0.4939</td>\n",
              "      <td>0.059</td>\n",
              "      <td>0.827</td>\n",
              "      <td>0.114</td>\n",
              "      <td>76.74</td>\n",
              "      <td>78.2300</td>\n",
              "      <td>76.080</td>\n",
              "      <td>23931830</td>\n",
              "      <td>0.404167</td>\n",
              "      <td>0.170833</td>\n",
              "    </tr>\n",
              "  </tbody>\n",
              "</table>\n",
              "</div>"
            ],
            "text/plain": [
              "             Close  compound  negative  ...    Volume  Subjectivity  Polarity\n",
              "Date                                    ...                                  \n",
              "2015-01-02  78.450    0.1943     0.116  ...  18141830      0.789286  0.364286\n",
              "2015-01-05  77.190    0.9748     0.061  ...  26392340      0.432742  0.121804\n",
              "2015-01-06  76.150    0.9932     0.034  ...  27365180      0.323315  0.163185\n",
              "2015-01-07  76.150    0.9866     0.059  ...  22015250      0.399957  0.173163\n",
              "2015-01-08  78.175    0.4939     0.059  ...  23931830      0.404167  0.170833\n",
              "\n",
              "[5 rows x 11 columns]"
            ]
          },
          "metadata": {},
          "execution_count": 39
        }
      ]
    },
    {
      "cell_type": "code",
      "metadata": {
        "id": "XjR3t1E2yY7i"
      },
      "source": [
        "stockdata=data.to_csv('stockdata.csv')"
      ],
      "execution_count": 40,
      "outputs": []
    },
    {
      "cell_type": "code",
      "metadata": {
        "colab": {
          "base_uri": "https://localhost:8080/",
          "height": 234
        },
        "id": "_vX57dNDybVt",
        "outputId": "4e70a513-8a14-4762-99ce-5b9234fbd538"
      },
      "source": [
        "stockdata = pd.read_csv('stockdata.csv', index_col = False)\n",
        "\n",
        "stockdata.rename(columns={'Unnamed: 0':'Date'}, inplace = True)\n",
        "\n",
        "stockdata.set_index('Date', inplace=True)\n",
        "\n",
        "stockdata.head()"
      ],
      "execution_count": 41,
      "outputs": [
        {
          "output_type": "execute_result",
          "data": {
            "text/html": [
              "<div>\n",
              "<style scoped>\n",
              "    .dataframe tbody tr th:only-of-type {\n",
              "        vertical-align: middle;\n",
              "    }\n",
              "\n",
              "    .dataframe tbody tr th {\n",
              "        vertical-align: top;\n",
              "    }\n",
              "\n",
              "    .dataframe thead th {\n",
              "        text-align: right;\n",
              "    }\n",
              "</style>\n",
              "<table border=\"1\" class=\"dataframe\">\n",
              "  <thead>\n",
              "    <tr style=\"text-align: right;\">\n",
              "      <th></th>\n",
              "      <th>Close</th>\n",
              "      <th>compound</th>\n",
              "      <th>negative</th>\n",
              "      <th>neutral</th>\n",
              "      <th>positive</th>\n",
              "      <th>Open</th>\n",
              "      <th>High</th>\n",
              "      <th>Low</th>\n",
              "      <th>Volume</th>\n",
              "      <th>Subjectivity</th>\n",
              "      <th>Polarity</th>\n",
              "    </tr>\n",
              "    <tr>\n",
              "      <th>Date</th>\n",
              "      <th></th>\n",
              "      <th></th>\n",
              "      <th></th>\n",
              "      <th></th>\n",
              "      <th></th>\n",
              "      <th></th>\n",
              "      <th></th>\n",
              "      <th></th>\n",
              "      <th></th>\n",
              "      <th></th>\n",
              "      <th></th>\n",
              "    </tr>\n",
              "  </thead>\n",
              "  <tbody>\n",
              "    <tr>\n",
              "      <th>2015-01-02</th>\n",
              "      <td>78.450</td>\n",
              "      <td>0.1943</td>\n",
              "      <td>0.116</td>\n",
              "      <td>0.749</td>\n",
              "      <td>0.135</td>\n",
              "      <td>78.58</td>\n",
              "      <td>78.9300</td>\n",
              "      <td>77.700</td>\n",
              "      <td>18141830</td>\n",
              "      <td>0.789286</td>\n",
              "      <td>0.364286</td>\n",
              "    </tr>\n",
              "    <tr>\n",
              "      <th>2015-01-05</th>\n",
              "      <td>77.190</td>\n",
              "      <td>0.9748</td>\n",
              "      <td>0.061</td>\n",
              "      <td>0.831</td>\n",
              "      <td>0.107</td>\n",
              "      <td>77.98</td>\n",
              "      <td>79.2455</td>\n",
              "      <td>76.860</td>\n",
              "      <td>26392340</td>\n",
              "      <td>0.432742</td>\n",
              "      <td>0.121804</td>\n",
              "    </tr>\n",
              "    <tr>\n",
              "      <th>2015-01-06</th>\n",
              "      <td>76.150</td>\n",
              "      <td>0.9932</td>\n",
              "      <td>0.034</td>\n",
              "      <td>0.862</td>\n",
              "      <td>0.105</td>\n",
              "      <td>77.23</td>\n",
              "      <td>77.5900</td>\n",
              "      <td>75.365</td>\n",
              "      <td>27365180</td>\n",
              "      <td>0.323315</td>\n",
              "      <td>0.163185</td>\n",
              "    </tr>\n",
              "    <tr>\n",
              "      <th>2015-01-07</th>\n",
              "      <td>76.150</td>\n",
              "      <td>0.9866</td>\n",
              "      <td>0.059</td>\n",
              "      <td>0.812</td>\n",
              "      <td>0.129</td>\n",
              "      <td>76.76</td>\n",
              "      <td>77.3600</td>\n",
              "      <td>75.820</td>\n",
              "      <td>22015250</td>\n",
              "      <td>0.399957</td>\n",
              "      <td>0.173163</td>\n",
              "    </tr>\n",
              "    <tr>\n",
              "      <th>2015-01-08</th>\n",
              "      <td>78.175</td>\n",
              "      <td>0.4939</td>\n",
              "      <td>0.059</td>\n",
              "      <td>0.827</td>\n",
              "      <td>0.114</td>\n",
              "      <td>76.74</td>\n",
              "      <td>78.2300</td>\n",
              "      <td>76.080</td>\n",
              "      <td>23931830</td>\n",
              "      <td>0.404167</td>\n",
              "      <td>0.170833</td>\n",
              "    </tr>\n",
              "  </tbody>\n",
              "</table>\n",
              "</div>"
            ],
            "text/plain": [
              "             Close  compound  negative  ...    Volume  Subjectivity  Polarity\n",
              "Date                                    ...                                  \n",
              "2015-01-02  78.450    0.1943     0.116  ...  18141830      0.789286  0.364286\n",
              "2015-01-05  77.190    0.9748     0.061  ...  26392340      0.432742  0.121804\n",
              "2015-01-06  76.150    0.9932     0.034  ...  27365180      0.323315  0.163185\n",
              "2015-01-07  76.150    0.9866     0.059  ...  22015250      0.399957  0.173163\n",
              "2015-01-08  78.175    0.4939     0.059  ...  23931830      0.404167  0.170833\n",
              "\n",
              "[5 rows x 11 columns]"
            ]
          },
          "metadata": {},
          "execution_count": 41
        }
      ]
    },
    {
      "cell_type": "code",
      "metadata": {
        "colab": {
          "base_uri": "https://localhost:8080/"
        },
        "id": "NVoBqrhryelp",
        "outputId": "2bf5f5c0-1fff-4b76-8b17-74dc2e79f763"
      },
      "source": [
        "stockdata.isna().any()"
      ],
      "execution_count": 42,
      "outputs": [
        {
          "output_type": "execute_result",
          "data": {
            "text/plain": [
              "Close           False\n",
              "compound        False\n",
              "negative        False\n",
              "neutral         False\n",
              "positive        False\n",
              "Open            False\n",
              "High            False\n",
              "Low             False\n",
              "Volume          False\n",
              "Subjectivity    False\n",
              "Polarity        False\n",
              "dtype: bool"
            ]
          },
          "metadata": {},
          "execution_count": 42
        }
      ]
    },
    {
      "cell_type": "code",
      "metadata": {
        "colab": {
          "base_uri": "https://localhost:8080/",
          "height": 295
        },
        "id": "HFdAiSY3yihV",
        "outputId": "26e216c3-8b9e-415d-82a2-0b6225c8ae0b"
      },
      "source": [
        "stockdata.describe(include='all')"
      ],
      "execution_count": 43,
      "outputs": [
        {
          "output_type": "execute_result",
          "data": {
            "text/html": [
              "<div>\n",
              "<style scoped>\n",
              "    .dataframe tbody tr th:only-of-type {\n",
              "        vertical-align: middle;\n",
              "    }\n",
              "\n",
              "    .dataframe tbody tr th {\n",
              "        vertical-align: top;\n",
              "    }\n",
              "\n",
              "    .dataframe thead th {\n",
              "        text-align: right;\n",
              "    }\n",
              "</style>\n",
              "<table border=\"1\" class=\"dataframe\">\n",
              "  <thead>\n",
              "    <tr style=\"text-align: right;\">\n",
              "      <th></th>\n",
              "      <th>Close</th>\n",
              "      <th>compound</th>\n",
              "      <th>negative</th>\n",
              "      <th>neutral</th>\n",
              "      <th>positive</th>\n",
              "      <th>Open</th>\n",
              "      <th>High</th>\n",
              "      <th>Low</th>\n",
              "      <th>Volume</th>\n",
              "      <th>Subjectivity</th>\n",
              "      <th>Polarity</th>\n",
              "    </tr>\n",
              "  </thead>\n",
              "  <tbody>\n",
              "    <tr>\n",
              "      <th>count</th>\n",
              "      <td>1595.000000</td>\n",
              "      <td>1595.000000</td>\n",
              "      <td>1595.000000</td>\n",
              "      <td>1595.000000</td>\n",
              "      <td>1595.000000</td>\n",
              "      <td>1595.000000</td>\n",
              "      <td>1595.000000</td>\n",
              "      <td>1595.000000</td>\n",
              "      <td>1.595000e+03</td>\n",
              "      <td>1595.000000</td>\n",
              "      <td>1595.000000</td>\n",
              "    </tr>\n",
              "    <tr>\n",
              "      <th>mean</th>\n",
              "      <td>165.369643</td>\n",
              "      <td>0.684809</td>\n",
              "      <td>0.056437</td>\n",
              "      <td>0.841263</td>\n",
              "      <td>0.102310</td>\n",
              "      <td>165.288320</td>\n",
              "      <td>167.188786</td>\n",
              "      <td>163.395256</td>\n",
              "      <td>2.231716e+07</td>\n",
              "      <td>0.416003</td>\n",
              "      <td>0.130218</td>\n",
              "    </tr>\n",
              "    <tr>\n",
              "      <th>std</th>\n",
              "      <td>58.164559</td>\n",
              "      <td>0.613134</td>\n",
              "      <td>0.029990</td>\n",
              "      <td>0.039018</td>\n",
              "      <td>0.031891</td>\n",
              "      <td>58.110148</td>\n",
              "      <td>58.991088</td>\n",
              "      <td>57.326541</td>\n",
              "      <td>1.311689e+07</td>\n",
              "      <td>0.078924</td>\n",
              "      <td>0.074241</td>\n",
              "    </tr>\n",
              "    <tr>\n",
              "      <th>min</th>\n",
              "      <td>74.050000</td>\n",
              "      <td>-0.999500</td>\n",
              "      <td>0.000000</td>\n",
              "      <td>0.666000</td>\n",
              "      <td>0.000000</td>\n",
              "      <td>74.040000</td>\n",
              "      <td>74.830000</td>\n",
              "      <td>72.000000</td>\n",
              "      <td>5.913066e+06</td>\n",
              "      <td>0.000000</td>\n",
              "      <td>-0.232576</td>\n",
              "    </tr>\n",
              "    <tr>\n",
              "      <th>25%</th>\n",
              "      <td>118.920000</td>\n",
              "      <td>0.837450</td>\n",
              "      <td>0.037000</td>\n",
              "      <td>0.819000</td>\n",
              "      <td>0.081000</td>\n",
              "      <td>118.947500</td>\n",
              "      <td>119.648500</td>\n",
              "      <td>117.790000</td>\n",
              "      <td>1.455378e+07</td>\n",
              "      <td>0.376172</td>\n",
              "      <td>0.087853</td>\n",
              "    </tr>\n",
              "    <tr>\n",
              "      <th>50%</th>\n",
              "      <td>165.790000</td>\n",
              "      <td>0.978400</td>\n",
              "      <td>0.052000</td>\n",
              "      <td>0.845000</td>\n",
              "      <td>0.101000</td>\n",
              "      <td>165.440000</td>\n",
              "      <td>167.450000</td>\n",
              "      <td>163.730000</td>\n",
              "      <td>1.898374e+07</td>\n",
              "      <td>0.420321</td>\n",
              "      <td>0.130476</td>\n",
              "    </tr>\n",
              "    <tr>\n",
              "      <th>75%</th>\n",
              "      <td>193.150000</td>\n",
              "      <td>0.993900</td>\n",
              "      <td>0.070000</td>\n",
              "      <td>0.867000</td>\n",
              "      <td>0.121000</td>\n",
              "      <td>193.032500</td>\n",
              "      <td>195.170000</td>\n",
              "      <td>191.460000</td>\n",
              "      <td>2.536836e+07</td>\n",
              "      <td>0.459573</td>\n",
              "      <td>0.173140</td>\n",
              "    </tr>\n",
              "    <tr>\n",
              "      <th>max</th>\n",
              "      <td>332.750000</td>\n",
              "      <td>0.999600</td>\n",
              "      <td>0.241000</td>\n",
              "      <td>1.000000</td>\n",
              "      <td>0.242000</td>\n",
              "      <td>331.000000</td>\n",
              "      <td>333.780000</td>\n",
              "      <td>328.330000</td>\n",
              "      <td>1.690599e+08</td>\n",
              "      <td>1.000000</td>\n",
              "      <td>0.533333</td>\n",
              "    </tr>\n",
              "  </tbody>\n",
              "</table>\n",
              "</div>"
            ],
            "text/plain": [
              "             Close     compound  ...  Subjectivity     Polarity\n",
              "count  1595.000000  1595.000000  ...   1595.000000  1595.000000\n",
              "mean    165.369643     0.684809  ...      0.416003     0.130218\n",
              "std      58.164559     0.613134  ...      0.078924     0.074241\n",
              "min      74.050000    -0.999500  ...      0.000000    -0.232576\n",
              "25%     118.920000     0.837450  ...      0.376172     0.087853\n",
              "50%     165.790000     0.978400  ...      0.420321     0.130476\n",
              "75%     193.150000     0.993900  ...      0.459573     0.173140\n",
              "max     332.750000     0.999600  ...      1.000000     0.533333\n",
              "\n",
              "[8 rows x 11 columns]"
            ]
          },
          "metadata": {},
          "execution_count": 43
        }
      ]
    },
    {
      "cell_type": "code",
      "metadata": {
        "colab": {
          "base_uri": "https://localhost:8080/"
        },
        "id": "5GC0RoP1yl07",
        "outputId": "3b3157ef-65a9-47b3-edc3-ee15f39506bf"
      },
      "source": [
        "stockdata.info()"
      ],
      "execution_count": 44,
      "outputs": [
        {
          "output_type": "stream",
          "name": "stdout",
          "text": [
            "<class 'pandas.core.frame.DataFrame'>\n",
            "Index: 1595 entries, 2015-01-02 to 2021-06-04\n",
            "Data columns (total 11 columns):\n",
            " #   Column        Non-Null Count  Dtype  \n",
            "---  ------        --------------  -----  \n",
            " 0   Close         1595 non-null   float64\n",
            " 1   compound      1595 non-null   float64\n",
            " 2   negative      1595 non-null   float64\n",
            " 3   neutral       1595 non-null   float64\n",
            " 4   positive      1595 non-null   float64\n",
            " 5   Open          1595 non-null   float64\n",
            " 6   High          1595 non-null   float64\n",
            " 7   Low           1595 non-null   float64\n",
            " 8   Volume        1595 non-null   int64  \n",
            " 9   Subjectivity  1595 non-null   float64\n",
            " 10  Polarity      1595 non-null   float64\n",
            "dtypes: float64(10), int64(1)\n",
            "memory usage: 149.5+ KB\n"
          ]
        }
      ]
    },
    {
      "cell_type": "code",
      "metadata": {
        "id": "czAA1xSzypxH"
      },
      "source": [
        "X=stockdata[['Open','High','Low','Volume','positive','neutral','positive','compound','Subjectivity','Polarity']]\n",
        "Y=stockdata['Close']"
      ],
      "execution_count": 45,
      "outputs": []
    },
    {
      "cell_type": "code",
      "metadata": {
        "colab": {
          "base_uri": "https://localhost:8080/"
        },
        "id": "QNUnY2olys6Y",
        "outputId": "e2133426-b3be-4fae-8511-3411c0609999"
      },
      "source": [
        "print(X)"
      ],
      "execution_count": 46,
      "outputs": [
        {
          "output_type": "stream",
          "name": "stdout",
          "text": [
            "              Open      High       Low  ...  compound  Subjectivity  Polarity\n",
            "Date                                    ...                                  \n",
            "2015-01-02   78.58   78.9300   77.7000  ...    0.1943      0.789286  0.364286\n",
            "2015-01-05   77.98   79.2455   76.8600  ...    0.9748      0.432742  0.121804\n",
            "2015-01-06   77.23   77.5900   75.3650  ...    0.9932      0.323315  0.163185\n",
            "2015-01-07   76.76   77.3600   75.8200  ...    0.9866      0.399957  0.173163\n",
            "2015-01-08   76.74   78.2300   76.0800  ...    0.4939      0.404167  0.170833\n",
            "...            ...       ...       ...  ...       ...           ...       ...\n",
            "2021-05-28  331.00  332.8684  328.3300  ...    0.9937      0.378480  0.214482\n",
            "2021-06-01  330.15  331.4200  326.6400  ...    0.9976      0.400223  0.152232\n",
            "2021-06-02  330.38  331.8700  327.1215  ...    0.7719      0.329710  0.144451\n",
            "2021-06-03  325.78  327.3750  323.4800  ...   -0.3348      0.445871  0.060720\n",
            "2021-06-04  325.90  332.4550  325.1800  ...    0.9801      0.436765  0.180530\n",
            "\n",
            "[1595 rows x 10 columns]\n"
          ]
        }
      ]
    },
    {
      "cell_type": "code",
      "metadata": {
        "colab": {
          "base_uri": "https://localhost:8080/"
        },
        "id": "LVBJG0ehyvBM",
        "outputId": "f7a7856c-7f26-4bda-8201-d0e478764e01"
      },
      "source": [
        "Y"
      ],
      "execution_count": 47,
      "outputs": [
        {
          "output_type": "execute_result",
          "data": {
            "text/plain": [
              "Date\n",
              "2015-01-02     78.450\n",
              "2015-01-05     77.190\n",
              "2015-01-06     76.150\n",
              "2015-01-07     76.150\n",
              "2015-01-08     78.175\n",
              "               ...   \n",
              "2021-05-28    328.730\n",
              "2021-06-01    329.130\n",
              "2021-06-02    329.150\n",
              "2021-06-03    326.040\n",
              "2021-06-04    330.350\n",
              "Name: Close, Length: 1595, dtype: float64"
            ]
          },
          "metadata": {},
          "execution_count": 47
        }
      ]
    },
    {
      "cell_type": "markdown",
      "metadata": {
        "id": "Wyj5KnWfyzuf"
      },
      "source": [
        "**Training the Algorithm**\n",
        "Linear Regression Model:Linear regression performs the task to predict a dependent variable value (y) based on a given independent variable (x). So, this regression technique finds out a linear relationship between x (input) and y(output).\n",
        "\n",
        "Making the Linear Regression Algorithm"
      ]
    },
    {
      "cell_type": "code",
      "metadata": {
        "id": "dHwqrXPuy6MU"
      },
      "source": [
        "from sklearn import metrics\n",
        "import seaborn as sns"
      ],
      "execution_count": 48,
      "outputs": []
    },
    {
      "cell_type": "code",
      "metadata": {
        "id": "BYO29phBy91p"
      },
      "source": [
        "from sklearn.model_selection import train_test_split\n",
        "X_train,X_test,Y_train,Y_test =train_test_split(X, Y, test_size =\n",
        "0.25, random_state = 0)"
      ],
      "execution_count": 49,
      "outputs": []
    },
    {
      "cell_type": "code",
      "metadata": {
        "colab": {
          "base_uri": "https://localhost:8080/"
        },
        "id": "XcsTue5VzA-l",
        "outputId": "1224dd79-0caa-42b8-a0a3-0366e4a27e3b"
      },
      "source": [
        "print(X_test)"
      ],
      "execution_count": 50,
      "outputs": [
        {
          "output_type": "stream",
          "name": "stdout",
          "text": [
            "              Open      High       Low  ...  compound  Subjectivity  Polarity\n",
            "Date                                    ...                                  \n",
            "2018-08-15  179.34  180.8700  174.7800  ...   -0.1531      0.319971  0.087520\n",
            "2019-02-05  169.15  171.9800  168.6900  ...    0.9850      0.449656  0.020633\n",
            "2019-06-06  168.30  169.7000  167.2300  ...   -0.9596      0.376776  0.088746\n",
            "2016-12-07  117.00  117.9500  116.5700  ...    0.9840      0.257620  0.136173\n",
            "2019-06-21  188.75  192.0000  188.7500  ...    0.7394      0.351285  0.241930\n",
            "...            ...       ...       ...  ...       ...           ...       ...\n",
            "2019-09-03  184.00  185.6700  182.1100  ...    0.9169      0.295833  0.062500\n",
            "2016-12-09  119.22  119.9400  118.9500  ...    0.9547      0.434074  0.116953\n",
            "2016-06-10  117.54  118.1100  116.2600  ...    0.9886      0.443321  0.050987\n",
            "2017-02-03  131.24  132.8500  130.7600  ...    0.9833      0.536780  0.265709\n",
            "2016-10-04  129.17  129.2765  127.5499  ...    0.6580      0.000000  0.000000\n",
            "\n",
            "[399 rows x 10 columns]\n"
          ]
        }
      ]
    },
    {
      "cell_type": "code",
      "metadata": {
        "colab": {
          "base_uri": "https://localhost:8080/"
        },
        "id": "GLd1fywhzDMP",
        "outputId": "17354904-da2c-4b5b-c6a1-f54dee952ca7"
      },
      "source": [
        "X_train.shape"
      ],
      "execution_count": 51,
      "outputs": [
        {
          "output_type": "execute_result",
          "data": {
            "text/plain": [
              "(1196, 10)"
            ]
          },
          "metadata": {},
          "execution_count": 51
        }
      ]
    },
    {
      "cell_type": "code",
      "metadata": {
        "colab": {
          "base_uri": "https://localhost:8080/"
        },
        "id": "g0sv6zNQzHQH",
        "outputId": "e1793968-c0f4-4b9d-c987-ad013664d71f"
      },
      "source": [
        "X_test.shape"
      ],
      "execution_count": 52,
      "outputs": [
        {
          "output_type": "execute_result",
          "data": {
            "text/plain": [
              "(399, 10)"
            ]
          },
          "metadata": {},
          "execution_count": 52
        }
      ]
    },
    {
      "cell_type": "markdown",
      "metadata": {
        "id": "Be2UwAo5zOp5"
      },
      "source": [
        "**Making the Linear Regression Algorithm**"
      ]
    },
    {
      "cell_type": "code",
      "metadata": {
        "colab": {
          "base_uri": "https://localhost:8080/"
        },
        "id": "9LjxaKQzzRni",
        "outputId": "8dce694a-aab5-4d98-cd4c-fa2c43bd78a7"
      },
      "source": [
        "from sklearn.metrics import confusion_matrix,accuracy_score\n",
        "from sklearn.linear_model import LinearRegression\n",
        "regressor = LinearRegression()\n",
        "regressor.fit(X_train, Y_train)"
      ],
      "execution_count": 53,
      "outputs": [
        {
          "output_type": "execute_result",
          "data": {
            "text/plain": [
              "LinearRegression(copy_X=True, fit_intercept=True, n_jobs=None, normalize=False)"
            ]
          },
          "metadata": {},
          "execution_count": 53
        }
      ]
    },
    {
      "cell_type": "code",
      "metadata": {
        "id": "HTTlNQajzV7G"
      },
      "source": [
        "Y_pred=regressor.predict(X_test)"
      ],
      "execution_count": 54,
      "outputs": []
    },
    {
      "cell_type": "code",
      "metadata": {
        "colab": {
          "base_uri": "https://localhost:8080/"
        },
        "id": "YGYxB8V7zYDM",
        "outputId": "3e1956dd-a1b7-463f-b1c6-fc9c50154924"
      },
      "source": [
        "\n",
        "Y_pred.shape"
      ],
      "execution_count": 55,
      "outputs": [
        {
          "output_type": "execute_result",
          "data": {
            "text/plain": [
              "(399,)"
            ]
          },
          "metadata": {},
          "execution_count": 55
        }
      ]
    },
    {
      "cell_type": "code",
      "metadata": {
        "colab": {
          "base_uri": "https://localhost:8080/"
        },
        "id": "vr0iCNDtzZ81",
        "outputId": "587c970b-2fc3-4f8d-cc81-47731070cb9e"
      },
      "source": [
        "Y_test.shape"
      ],
      "execution_count": 56,
      "outputs": [
        {
          "output_type": "execute_result",
          "data": {
            "text/plain": [
              "(399,)"
            ]
          },
          "metadata": {},
          "execution_count": 56
        }
      ]
    },
    {
      "cell_type": "markdown",
      "metadata": {
        "id": "N9wiUz_szevh"
      },
      "source": [
        "**Evaluating the data**\n",
        "The final step is to evaluate the performance of the model. This step is important to compare how well both the algorithms perform on a specified dataset."
      ]
    },
    {
      "cell_type": "code",
      "metadata": {
        "colab": {
          "base_uri": "https://localhost:8080/"
        },
        "id": "_0UlP9e3zgmh",
        "outputId": "ee2fcc3f-7ecd-47a5-b884-52999ff874cb"
      },
      "source": [
        "regressor.score(X_test,Y_test)"
      ],
      "execution_count": 57,
      "outputs": [
        {
          "output_type": "execute_result",
          "data": {
            "text/plain": [
              "0.9994791177844797"
            ]
          },
          "metadata": {},
          "execution_count": 57
        }
      ]
    },
    {
      "cell_type": "code",
      "metadata": {
        "colab": {
          "base_uri": "https://localhost:8080/"
        },
        "id": "x15cF8nGzmix",
        "outputId": "3df74731-8fec-44a8-82ec-b5d949b53b05"
      },
      "source": [
        "print('Mean Absolute Error:', metrics.mean_absolute_error(Y_test,Y_pred))\n"
      ],
      "execution_count": 58,
      "outputs": [
        {
          "output_type": "stream",
          "name": "stdout",
          "text": [
            "Mean Absolute Error: 0.8727556497481197\n"
          ]
        }
      ]
    },
    {
      "cell_type": "code",
      "metadata": {
        "colab": {
          "base_uri": "https://localhost:8080/"
        },
        "id": "3NQH75VZznyM",
        "outputId": "8ddb9534-ceb6-452d-80bd-6e9cf5754844"
      },
      "source": [
        "print('Mean squared Error:', metrics.mean_squared_error(Y_test,Y_pred))"
      ],
      "execution_count": 59,
      "outputs": [
        {
          "output_type": "stream",
          "name": "stdout",
          "text": [
            "Mean squared Error: 1.7714067173884818\n"
          ]
        }
      ]
    },
    {
      "cell_type": "code",
      "metadata": {
        "colab": {
          "base_uri": "https://localhost:8080/"
        },
        "id": "_iuRmSilzqyT",
        "outputId": "5b020c19-e26e-42bb-a8a0-fcabbe86e63c"
      },
      "source": [
        "print('Root Mean Squared Error:', math.sqrt(metrics.mean_squared_error(Y_test,Y_pred)))"
      ],
      "execution_count": 60,
      "outputs": [
        {
          "output_type": "stream",
          "name": "stdout",
          "text": [
            "Root Mean Squared Error: 1.3309420413333113\n"
          ]
        }
      ]
    },
    {
      "cell_type": "code",
      "metadata": {
        "id": "WYyn0kRKzvBk"
      },
      "source": [
        "dframe=pd.DataFrame({'Actual price':Y_test,'Predicted price':Y_pred})"
      ],
      "execution_count": 61,
      "outputs": []
    },
    {
      "cell_type": "code",
      "metadata": {
        "colab": {
          "base_uri": "https://localhost:8080/"
        },
        "id": "L62GyUnozyK6",
        "outputId": "d7b196ac-6832-4481-caa7-c48d1997ccab"
      },
      "source": [
        "# Comparing Actual vs Predicted\n",
        "print(dframe)"
      ],
      "execution_count": 62,
      "outputs": [
        {
          "output_type": "stream",
          "name": "stdout",
          "text": [
            "            Actual price  Predicted price\n",
            "Date                                     \n",
            "2018-08-15        179.53       177.201341\n",
            "2019-02-05        171.16       170.836618\n",
            "2019-06-06        168.33       168.718140\n",
            "2016-12-07        117.95       117.585246\n",
            "2019-06-21        191.14       191.368900\n",
            "...                  ...              ...\n",
            "2019-09-03        182.39       183.855193\n",
            "2016-12-09        119.68       119.612458\n",
            "2016-06-10        116.62       117.013554\n",
            "2017-02-03        130.98       132.261323\n",
            "2016-10-04        128.19       128.225409\n",
            "\n",
            "[399 rows x 2 columns]\n"
          ]
        }
      ]
    },
    {
      "cell_type": "markdown",
      "metadata": {
        "id": "0AfCONccz2Zb"
      },
      "source": [
        "**Plotting the Result**"
      ]
    },
    {
      "cell_type": "code",
      "metadata": {
        "id": "oaf2ex5Az1q9"
      },
      "source": [
        "#plotting the grid to depict the actual and predicted value\n",
        "graph=dframe.head(20)"
      ],
      "execution_count": 63,
      "outputs": []
    },
    {
      "cell_type": "code",
      "metadata": {
        "colab": {
          "base_uri": "https://localhost:8080/",
          "height": 338
        },
        "id": "NVcDgmyP0BZT",
        "outputId": "2461a0b7-38a5-4e84-bbaa-0e6009ba5f2b"
      },
      "source": [
        "graph.plot(kind='bar')"
      ],
      "execution_count": 65,
      "outputs": [
        {
          "output_type": "execute_result",
          "data": {
            "text/plain": [
              "<matplotlib.axes._subplots.AxesSubplot at 0x7f7b80ef2590>"
            ]
          },
          "metadata": {},
          "execution_count": 65
        },
        {
          "output_type": "display_data",
          "data": {
            "image/png": "[encoded data removed]",
            "text/plain": [
              "<Figure size 432x288 with 1 Axes>"
            ]
          },
          "metadata": {
            "needs_background": "light"
          }
        }
      ]
    },
    {
      "cell_type": "code",
      "metadata": {
        "id": "Wk-8_TaP0JuI"
      },
      "source": [
        "import pickle\n",
        "pickle_out=open(\"fb_LRModel.pkl\",\"wb\")\n",
        "pickle.dump(regressor,pickle_out)\n",
        "pickle_out.close()"
      ],
      "execution_count": 66,
      "outputs": []
    },
    {
      "cell_type": "code",
      "metadata": {
        "colab": {
          "base_uri": "https://localhost:8080/",
          "height": 17
        },
        "id": "OZeRH2or0MFX",
        "outputId": "77c351c3-5276-4903-bba9-f2fd38131de3"
      },
      "source": [
        "\n",
        "files.download('fb_LRModel.pkl')"
      ],
      "execution_count": 67,
      "outputs": [
        {
          "output_type": "display_data",
          "data": {
            "application/javascript": [
              "\n",
              "    async function download(id, filename, size) {\n",
              "      if (!google.colab.kernel.accessAllowed) {\n",
              "        return;\n",
              "      }\n",
              "      const div = document.createElement('div');\n",
              "      const label = document.createElement('label');\n",
              "      label.textContent = `Downloading \"${filename}\": `;\n",
              "      div.appendChild(label);\n",
              "      const progress = document.createElement('progress');\n",
              "      progress.max = size;\n",
              "      div.appendChild(progress);\n",
              "      document.body.appendChild(div);\n",
              "\n",
              "      const buffers = [];\n",
              "      let downloaded = 0;\n",
              "\n",
              "      const channel = await google.colab.kernel.comms.open(id);\n",
              "      // Send a message to notify the kernel that we're ready.\n",
              "      channel.send({})\n",
              "\n",
              "      for await (const message of channel.messages) {\n",
              "        // Send a message to notify the kernel that we're ready.\n",
              "        channel.send({})\n",
              "        if (message.buffers) {\n",
              "          for (const buffer of message.buffers) {\n",
              "            buffers.push(buffer);\n",
              "            downloaded += buffer.byteLength;\n",
              "            progress.value = downloaded;\n",
              "          }\n",
              "        }\n",
              "      }\n",
              "      const blob = new Blob(buffers, {type: 'application/binary'});\n",
              "      const a = document.createElement('a');\n",
              "      a.href = window.URL.createObjectURL(blob);\n",
              "      a.download = filename;\n",
              "      div.appendChild(a);\n",
              "      a.click();\n",
              "      div.remove();\n",
              "    }\n",
              "  "
            ],
            "text/plain": [
              "<IPython.core.display.Javascript object>"
            ]
          },
          "metadata": {}
        },
        {
          "output_type": "display_data",
          "data": {
            "application/javascript": [
              "download(\"download_b4457dc1-fc0e-481e-b0ee-9471e8b7dfc6\", \"fb_LRModel.pkl\", 677)"
            ],
            "text/plain": [
              "<IPython.core.display.Javascript object>"
            ]
          },
          "metadata": {}
        }
      ]
    }
  ]
}